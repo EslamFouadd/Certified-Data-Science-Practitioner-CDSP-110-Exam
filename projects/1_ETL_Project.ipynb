{
  "cells": [
    {
      "cell_type": "markdown",
      "metadata": {
        "id": "UrVoWf9On3j_"
      },
      "source": [
        "# Import software libraries"
      ]
    },
    {
      "cell_type": "code",
      "execution_count": null,
      "metadata": {
        "id": "PcMASj9Jn3kB",
        "outputId": "36f13fa6-d0fc-496e-cdc1-030a6b9816fc"
      },
      "outputs": [
        {
          "name": "stdout",
          "output_type": "stream",
          "text": [
            "Libraries used in this project:\n",
            "- Python 3.7.6 | packaged by conda-forge | (default, Mar 23 2020, 23:03:20) \n",
            "[GCC 7.3.0]\n",
            "- pandas 1.1.3\n",
            "- sqlite3 3.30.1\n"
          ]
        }
      ],
      "source": [
        "# Import required libraries.\n",
        "import sys           # Read system parameters.\n",
        "import pandas as pd  # Manipulate and analyze data.\n",
        "import sqlite3       # Manage SQL databases.\n",
        "\n",
        "# Summarize software libraries used.\n",
        "print('Libraries used in this project:')\n",
        "print('- Python {}'.format(sys.version))\n",
        "print('- pandas {}'.format(pd.__version__))\n",
        "print('- sqlite3 {}'.format(sqlite3.sqlite_version))"
      ]
    },
    {
      "cell_type": "markdown",
      "metadata": {
        "id": "Kd6ep8MZn3kC"
      },
      "source": [
        "# Examine the database"
      ]
    },
    {
      "cell_type": "code",
      "execution_count": null,
      "metadata": {
        "id": "1spY5E0Wn3kC",
        "outputId": "9fabe369-8a8e-4bbb-d057-5bad111e0ccb"
      },
      "outputs": [
        {
          "data": {
            "text/plain": [
              "<sqlite3.Connection at 0x7f0e74b32110>"
            ]
          },
          "execution_count": 2,
          "metadata": {},
          "output_type": "execute_result"
        }
      ],
      "source": [
        "# Connect to SQLite database.\n",
        "conn = sqlite3.connect('data/prod_sample.db')\n",
        "conn"
      ]
    },
    {
      "cell_type": "code",
      "execution_count": null,
      "metadata": {
        "id": "fevNVx5Nn3kC",
        "outputId": "113fbd2f-9f74-4ff9-fc35-be72ee20ed6a"
      },
      "outputs": [
        {
          "data": {
            "text/html": [
              "<div>\n",
              "<style scoped>\n",
              "    .dataframe tbody tr th:only-of-type {\n",
              "        vertical-align: middle;\n",
              "    }\n",
              "\n",
              "    .dataframe tbody tr th {\n",
              "        vertical-align: top;\n",
              "    }\n",
              "\n",
              "    .dataframe thead th {\n",
              "        text-align: right;\n",
              "    }\n",
              "</style>\n",
              "<table border=\"1\" class=\"dataframe\">\n",
              "  <thead>\n",
              "    <tr style=\"text-align: right;\">\n",
              "      <th></th>\n",
              "      <th>name</th>\n",
              "    </tr>\n",
              "  </thead>\n",
              "  <tbody>\n",
              "    <tr>\n",
              "      <th>0</th>\n",
              "      <td>stock_description</td>\n",
              "    </tr>\n",
              "    <tr>\n",
              "      <th>1</th>\n",
              "      <td>online_retail_history</td>\n",
              "    </tr>\n",
              "  </tbody>\n",
              "</table>\n",
              "</div>"
            ],
            "text/plain": [
              "                    name\n",
              "0      stock_description\n",
              "1  online_retail_history"
            ]
          },
          "execution_count": 3,
          "metadata": {},
          "output_type": "execute_result"
        }
      ],
      "source": [
        "# List all the tables in the database.\n",
        "query = 'SELECT name from sqlite_master where type= \"table\";'\n",
        "\n",
        "pd.read_sql(query, conn)"
      ]
    },
    {
      "cell_type": "markdown",
      "metadata": {
        "id": "7sP2qE_Cn3kC"
      },
      "source": [
        "# Read data from the `online_retail_history` table"
      ]
    },
    {
      "cell_type": "code",
      "execution_count": null,
      "metadata": {
        "id": "mVd0GBs1n3kD",
        "outputId": "5a2c38b5-bc70-49ae-e5ab-54711b1c110a"
      },
      "outputs": [
        {
          "data": {
            "text/html": [
              "<div>\n",
              "<style scoped>\n",
              "    .dataframe tbody tr th:only-of-type {\n",
              "        vertical-align: middle;\n",
              "    }\n",
              "\n",
              "    .dataframe tbody tr th {\n",
              "        vertical-align: top;\n",
              "    }\n",
              "\n",
              "    .dataframe thead th {\n",
              "        text-align: right;\n",
              "    }\n",
              "</style>\n",
              "<table border=\"1\" class=\"dataframe\">\n",
              "  <thead>\n",
              "    <tr style=\"text-align: right;\">\n",
              "      <th></th>\n",
              "      <th>Invoice</th>\n",
              "      <th>StockCode</th>\n",
              "      <th>Quantity</th>\n",
              "      <th>InvoiceDate</th>\n",
              "      <th>Price</th>\n",
              "      <th>CustomerID</th>\n",
              "      <th>Country</th>\n",
              "      <th>TotalAmount</th>\n",
              "    </tr>\n",
              "  </thead>\n",
              "  <tbody>\n",
              "    <tr>\n",
              "      <th>0</th>\n",
              "      <td>536365</td>\n",
              "      <td>85123A</td>\n",
              "      <td>6</td>\n",
              "      <td>2010-12-01 08:26:00</td>\n",
              "      <td>2.55</td>\n",
              "      <td>u1785</td>\n",
              "      <td>United Kingdom</td>\n",
              "      <td>15.30</td>\n",
              "    </tr>\n",
              "    <tr>\n",
              "      <th>1</th>\n",
              "      <td>536367</td>\n",
              "      <td>84879</td>\n",
              "      <td>32</td>\n",
              "      <td>2010-12-01 08:34:00</td>\n",
              "      <td>1.69</td>\n",
              "      <td>u13047</td>\n",
              "      <td>United Kingdom</td>\n",
              "      <td>54.08</td>\n",
              "    </tr>\n",
              "    <tr>\n",
              "      <th>2</th>\n",
              "      <td>536373</td>\n",
              "      <td>85123A</td>\n",
              "      <td>6</td>\n",
              "      <td>2010-12-01 09:02:00</td>\n",
              "      <td>2.55</td>\n",
              "      <td>u1785</td>\n",
              "      <td>United Kingdom</td>\n",
              "      <td>15.30</td>\n",
              "    </tr>\n",
              "    <tr>\n",
              "      <th>3</th>\n",
              "      <td>536375</td>\n",
              "      <td>85123A</td>\n",
              "      <td>6</td>\n",
              "      <td>2010-12-01 09:32:00</td>\n",
              "      <td>2.55</td>\n",
              "      <td>u1785</td>\n",
              "      <td>United Kingdom</td>\n",
              "      <td>15.30</td>\n",
              "    </tr>\n",
              "    <tr>\n",
              "      <th>4</th>\n",
              "      <td>536378</td>\n",
              "      <td>20725</td>\n",
              "      <td>10</td>\n",
              "      <td>2010-12-01 09:37:00</td>\n",
              "      <td>1.65</td>\n",
              "      <td>u14688</td>\n",
              "      <td>United Kingdom</td>\n",
              "      <td>16.50</td>\n",
              "    </tr>\n",
              "  </tbody>\n",
              "</table>\n",
              "</div>"
            ],
            "text/plain": [
              "  Invoice StockCode  Quantity          InvoiceDate  Price CustomerID  \\\n",
              "0  536365    85123A         6  2010-12-01 08:26:00   2.55      u1785   \n",
              "1  536367     84879        32  2010-12-01 08:34:00   1.69     u13047   \n",
              "2  536373    85123A         6  2010-12-01 09:02:00   2.55      u1785   \n",
              "3  536375    85123A         6  2010-12-01 09:32:00   2.55      u1785   \n",
              "4  536378     20725        10  2010-12-01 09:37:00   1.65     u14688   \n",
              "\n",
              "          Country  TotalAmount  \n",
              "0  United Kingdom        15.30  \n",
              "1  United Kingdom        54.08  \n",
              "2  United Kingdom        15.30  \n",
              "3  United Kingdom        15.30  \n",
              "4  United Kingdom        16.50  "
            ]
          },
          "execution_count": 4,
          "metadata": {},
          "output_type": "execute_result"
        }
      ],
      "source": [
        "# Write the query to be executed that selects everything from the online_retail_history table.\n",
        "query = \"SELECT*FROM online_retail_history\"\n",
        "\n",
        "# Use the read_sql function in pandas to read a query into a DataFrame.\n",
        "retail_history = pd.read_sql(query, conn)\n",
        "\n",
        "# Preview the first five rows of the data.\n",
        "retail_history.head()"
      ]
    },
    {
      "cell_type": "code",
      "execution_count": null,
      "metadata": {
        "id": "eLmUC8kBn3kD",
        "outputId": "6c31da80-d6b3-4c2b-f51f-f87d52e2d095"
      },
      "outputs": [
        {
          "data": {
            "text/plain": [
              "(15321, 8)"
            ]
          },
          "execution_count": 5,
          "metadata": {},
          "output_type": "execute_result"
        }
      ],
      "source": [
        "# Get the shape of the data.\n",
        "retail_history.shape"
      ]
    },
    {
      "cell_type": "markdown",
      "metadata": {
        "id": "ZW0sbfR5n3kD"
      },
      "source": [
        "# Read data from the `stock_description` table"
      ]
    },
    {
      "cell_type": "code",
      "execution_count": null,
      "metadata": {
        "id": "6k0da9PMn3kD",
        "outputId": "3fad01fc-0d0a-4887-f401-e65c9ffe6771"
      },
      "outputs": [
        {
          "data": {
            "text/html": [
              "<div>\n",
              "<style scoped>\n",
              "    .dataframe tbody tr th:only-of-type {\n",
              "        vertical-align: middle;\n",
              "    }\n",
              "\n",
              "    .dataframe tbody tr th {\n",
              "        vertical-align: top;\n",
              "    }\n",
              "\n",
              "    .dataframe thead th {\n",
              "        text-align: right;\n",
              "    }\n",
              "</style>\n",
              "<table border=\"1\" class=\"dataframe\">\n",
              "  <thead>\n",
              "    <tr style=\"text-align: right;\">\n",
              "      <th></th>\n",
              "      <th>StockCode</th>\n",
              "      <th>Description</th>\n",
              "    </tr>\n",
              "  </thead>\n",
              "  <tbody>\n",
              "    <tr>\n",
              "      <th>0</th>\n",
              "      <td>10002</td>\n",
              "      <td>INFLATABLE POLITICAL GLOBE</td>\n",
              "    </tr>\n",
              "    <tr>\n",
              "      <th>1</th>\n",
              "      <td>10080</td>\n",
              "      <td>GROOVY CACTUS INFLATABLE</td>\n",
              "    </tr>\n",
              "    <tr>\n",
              "      <th>2</th>\n",
              "      <td>10120</td>\n",
              "      <td>DOGGY RUBBER</td>\n",
              "    </tr>\n",
              "    <tr>\n",
              "      <th>3</th>\n",
              "      <td>10123C</td>\n",
              "      <td>HEARTS WRAPPING TAPE</td>\n",
              "    </tr>\n",
              "    <tr>\n",
              "      <th>4</th>\n",
              "      <td>10124A</td>\n",
              "      <td>SPOTS ON RED BOOKCOVER TAPE</td>\n",
              "    </tr>\n",
              "  </tbody>\n",
              "</table>\n",
              "</div>"
            ],
            "text/plain": [
              "  StockCode                  Description\n",
              "0     10002  INFLATABLE POLITICAL GLOBE \n",
              "1     10080     GROOVY CACTUS INFLATABLE\n",
              "2     10120                 DOGGY RUBBER\n",
              "3    10123C        HEARTS WRAPPING TAPE \n",
              "4    10124A  SPOTS ON RED BOOKCOVER TAPE"
            ]
          },
          "execution_count": 6,
          "metadata": {},
          "output_type": "execute_result"
        }
      ],
      "source": [
        "# Write the query to be executed that selects everything from the stock_description table.\n",
        "query = \"SELECT*FROM stock_description\"\n",
        "\n",
        "# Use the read_sql function in pandas to read a query into a DataFrame.\n",
        "stock_description = pd.read_sql(query, conn)\n",
        "\n",
        "# Preview the first five rows of the data.\n",
        "stock_description.head()"
      ]
    },
    {
      "cell_type": "code",
      "execution_count": null,
      "metadata": {
        "id": "Rwrw7H3En3kD",
        "outputId": "3ee3fab9-3c20-46e4-a91b-f2e979f149dc"
      },
      "outputs": [
        {
          "data": {
            "text/plain": [
              "(3952, 2)"
            ]
          },
          "execution_count": 7,
          "metadata": {},
          "output_type": "execute_result"
        }
      ],
      "source": [
        "# Get the shape of the data.\n",
        "stock_description.shape"
      ]
    },
    {
      "cell_type": "markdown",
      "metadata": {
        "id": "RrHWqRuYn3kE"
      },
      "source": [
        "# Aggregate the `online_retail_history` and `stock_description` datasets"
      ]
    },
    {
      "cell_type": "code",
      "execution_count": null,
      "metadata": {
        "id": "tTLz0lbsn3kE",
        "outputId": "5638f134-195a-4a62-de96-86c73ca5ff06"
      },
      "outputs": [
        {
          "data": {
            "text/html": [
              "<div>\n",
              "<style scoped>\n",
              "    .dataframe tbody tr th:only-of-type {\n",
              "        vertical-align: middle;\n",
              "    }\n",
              "\n",
              "    .dataframe tbody tr th {\n",
              "        vertical-align: top;\n",
              "    }\n",
              "\n",
              "    .dataframe thead th {\n",
              "        text-align: right;\n",
              "    }\n",
              "</style>\n",
              "<table border=\"1\" class=\"dataframe\">\n",
              "  <thead>\n",
              "    <tr style=\"text-align: right;\">\n",
              "      <th></th>\n",
              "      <th>Invoice</th>\n",
              "      <th>StockCode</th>\n",
              "      <th>Quantity</th>\n",
              "      <th>InvoiceDate</th>\n",
              "      <th>Price</th>\n",
              "      <th>CustomerID</th>\n",
              "      <th>Country</th>\n",
              "      <th>TotalAmount</th>\n",
              "      <th>Description</th>\n",
              "    </tr>\n",
              "  </thead>\n",
              "  <tbody>\n",
              "    <tr>\n",
              "      <th>0</th>\n",
              "      <td>536365</td>\n",
              "      <td>85123A</td>\n",
              "      <td>6</td>\n",
              "      <td>2010-12-01 08:26:00</td>\n",
              "      <td>2.55</td>\n",
              "      <td>u1785</td>\n",
              "      <td>United Kingdom</td>\n",
              "      <td>15.30</td>\n",
              "      <td>CREAM HANGING HEART T-LIGHT HOLDER</td>\n",
              "    </tr>\n",
              "    <tr>\n",
              "      <th>1</th>\n",
              "      <td>536367</td>\n",
              "      <td>84879</td>\n",
              "      <td>32</td>\n",
              "      <td>2010-12-01 08:34:00</td>\n",
              "      <td>1.69</td>\n",
              "      <td>u13047</td>\n",
              "      <td>United Kingdom</td>\n",
              "      <td>54.08</td>\n",
              "      <td>ASSORTED COLOUR BIRD ORNAMENT</td>\n",
              "    </tr>\n",
              "    <tr>\n",
              "      <th>2</th>\n",
              "      <td>536373</td>\n",
              "      <td>85123A</td>\n",
              "      <td>6</td>\n",
              "      <td>2010-12-01 09:02:00</td>\n",
              "      <td>2.55</td>\n",
              "      <td>u1785</td>\n",
              "      <td>United Kingdom</td>\n",
              "      <td>15.30</td>\n",
              "      <td>CREAM HANGING HEART T-LIGHT HOLDER</td>\n",
              "    </tr>\n",
              "    <tr>\n",
              "      <th>3</th>\n",
              "      <td>536375</td>\n",
              "      <td>85123A</td>\n",
              "      <td>6</td>\n",
              "      <td>2010-12-01 09:32:00</td>\n",
              "      <td>2.55</td>\n",
              "      <td>u1785</td>\n",
              "      <td>United Kingdom</td>\n",
              "      <td>15.30</td>\n",
              "      <td>CREAM HANGING HEART T-LIGHT HOLDER</td>\n",
              "    </tr>\n",
              "    <tr>\n",
              "      <th>4</th>\n",
              "      <td>536378</td>\n",
              "      <td>20725</td>\n",
              "      <td>10</td>\n",
              "      <td>2010-12-01 09:37:00</td>\n",
              "      <td>1.65</td>\n",
              "      <td>u14688</td>\n",
              "      <td>United Kingdom</td>\n",
              "      <td>16.50</td>\n",
              "      <td>LUNCH BAG RED RETROSPOT</td>\n",
              "    </tr>\n",
              "  </tbody>\n",
              "</table>\n",
              "</div>"
            ],
            "text/plain": [
              "  Invoice StockCode  Quantity          InvoiceDate  Price CustomerID  \\\n",
              "0  536365    85123A         6  2010-12-01 08:26:00   2.55      u1785   \n",
              "1  536367     84879        32  2010-12-01 08:34:00   1.69     u13047   \n",
              "2  536373    85123A         6  2010-12-01 09:02:00   2.55      u1785   \n",
              "3  536375    85123A         6  2010-12-01 09:32:00   2.55      u1785   \n",
              "4  536378     20725        10  2010-12-01 09:37:00   1.65     u14688   \n",
              "\n",
              "          Country  TotalAmount                         Description  \n",
              "0  United Kingdom        15.30  CREAM HANGING HEART T-LIGHT HOLDER  \n",
              "1  United Kingdom        54.08       ASSORTED COLOUR BIRD ORNAMENT  \n",
              "2  United Kingdom        15.30  CREAM HANGING HEART T-LIGHT HOLDER  \n",
              "3  United Kingdom        15.30  CREAM HANGING HEART T-LIGHT HOLDER  \n",
              "4  United Kingdom        16.50             LUNCH BAG RED RETROSPOT  "
            ]
          },
          "execution_count": 8,
          "metadata": {},
          "output_type": "execute_result"
        }
      ],
      "source": [
        "# Write a query to aggregate the two datasets so that you have the stock descriptions as well as the stock code.\n",
        "query = '''SELECT left_table.*,\n",
        "            right_table.Description\n",
        "        FROM online_retail_history AS left_table\n",
        "        LEFT JOIN stock_description AS right_table\n",
        "           ON left_table.StockCode = right_table.StockCode'''\n",
        "\n",
        "\n",
        "# Use the read_sql function in pandas to read a query into a DataFrame.\n",
        "retail_history_agg =  pd.read_sql(query, conn)\n",
        "\n",
        "# Preview the first five rows of the data.\n",
        "retail_history_agg.head()"
      ]
    },
    {
      "cell_type": "code",
      "execution_count": null,
      "metadata": {
        "id": "Vk496Zdqn3kE",
        "outputId": "56eb62bf-6f71-463c-c12c-b2471634ecf1"
      },
      "outputs": [
        {
          "data": {
            "text/plain": [
              "(17032, 9)"
            ]
          },
          "execution_count": 9,
          "metadata": {},
          "output_type": "execute_result"
        }
      ],
      "source": [
        "# Get the shape of the data.\n",
        "retail_history_agg.shape"
      ]
    },
    {
      "cell_type": "markdown",
      "metadata": {
        "id": "cQjKRcfIn3kE"
      },
      "source": [
        "# Identify and fix corrupt or unusable data"
      ]
    },
    {
      "cell_type": "code",
      "execution_count": null,
      "metadata": {
        "id": "tuMGYdYen3kE",
        "outputId": "6c37378e-b671-48b6-a3f1-a2ddc9e7a4b4"
      },
      "outputs": [
        {
          "data": {
            "text/plain": [
              "CREAM HANGING HEART T-LIGHT HOLDER    2174\n",
              "JUMBO BAG RED RETROSPOT               1960\n",
              "?                                     1711\n",
              "REGENCY CAKESTAND 3 TIER              1711\n",
              "PARTY BUNTING                         1615\n",
              "LUNCH BAG RED RETROSPOT               1421\n",
              "ASSORTED COLOUR BIRD ORNAMENT         1405\n",
              "POPCORN HOLDER                        1329\n",
              "LUNCH BAG  BLACK SKULL.               1271\n",
              "SET OF 3 CAKE TINS PANTRY DESIGN      1257\n",
              "PACK OF 72 RETROSPOT CAKE CASES       1178\n",
              "Name: Description, dtype: int64"
            ]
          },
          "execution_count": 10,
          "metadata": {},
          "output_type": "execute_result"
        }
      ],
      "source": [
        "# Check the value counts of the \"Description\" field.\n",
        "retail_history_agg.Description.value_counts()"
      ]
    },
    {
      "cell_type": "code",
      "execution_count": null,
      "metadata": {
        "scrolled": false,
        "id": "WmwjqBNjn3kF",
        "outputId": "dbef47b3-b549-42ae-df1e-d8d6aab54d80"
      },
      "outputs": [
        {
          "data": {
            "text/html": [
              "<div>\n",
              "<style scoped>\n",
              "    .dataframe tbody tr th:only-of-type {\n",
              "        vertical-align: middle;\n",
              "    }\n",
              "\n",
              "    .dataframe tbody tr th {\n",
              "        vertical-align: top;\n",
              "    }\n",
              "\n",
              "    .dataframe thead th {\n",
              "        text-align: right;\n",
              "    }\n",
              "</style>\n",
              "<table border=\"1\" class=\"dataframe\">\n",
              "  <thead>\n",
              "    <tr style=\"text-align: right;\">\n",
              "      <th></th>\n",
              "      <th>Invoice</th>\n",
              "      <th>StockCode</th>\n",
              "      <th>Quantity</th>\n",
              "      <th>InvoiceDate</th>\n",
              "      <th>Price</th>\n",
              "      <th>CustomerID</th>\n",
              "      <th>Country</th>\n",
              "      <th>TotalAmount</th>\n",
              "      <th>Description</th>\n",
              "    </tr>\n",
              "  </thead>\n",
              "  <tbody>\n",
              "    <tr>\n",
              "      <th>0</th>\n",
              "      <td>536365</td>\n",
              "      <td>85123A</td>\n",
              "      <td>6</td>\n",
              "      <td>2010-12-01 08:26:00</td>\n",
              "      <td>2.55</td>\n",
              "      <td>u1785</td>\n",
              "      <td>United Kingdom</td>\n",
              "      <td>15.30</td>\n",
              "      <td>CREAM HANGING HEART T-LIGHT HOLDER</td>\n",
              "    </tr>\n",
              "    <tr>\n",
              "      <th>1</th>\n",
              "      <td>536367</td>\n",
              "      <td>84879</td>\n",
              "      <td>32</td>\n",
              "      <td>2010-12-01 08:34:00</td>\n",
              "      <td>1.69</td>\n",
              "      <td>u13047</td>\n",
              "      <td>United Kingdom</td>\n",
              "      <td>54.08</td>\n",
              "      <td>ASSORTED COLOUR BIRD ORNAMENT</td>\n",
              "    </tr>\n",
              "    <tr>\n",
              "      <th>2</th>\n",
              "      <td>536373</td>\n",
              "      <td>85123A</td>\n",
              "      <td>6</td>\n",
              "      <td>2010-12-01 09:02:00</td>\n",
              "      <td>2.55</td>\n",
              "      <td>u1785</td>\n",
              "      <td>United Kingdom</td>\n",
              "      <td>15.30</td>\n",
              "      <td>CREAM HANGING HEART T-LIGHT HOLDER</td>\n",
              "    </tr>\n",
              "    <tr>\n",
              "      <th>3</th>\n",
              "      <td>536375</td>\n",
              "      <td>85123A</td>\n",
              "      <td>6</td>\n",
              "      <td>2010-12-01 09:32:00</td>\n",
              "      <td>2.55</td>\n",
              "      <td>u1785</td>\n",
              "      <td>United Kingdom</td>\n",
              "      <td>15.30</td>\n",
              "      <td>CREAM HANGING HEART T-LIGHT HOLDER</td>\n",
              "    </tr>\n",
              "    <tr>\n",
              "      <th>4</th>\n",
              "      <td>536378</td>\n",
              "      <td>20725</td>\n",
              "      <td>10</td>\n",
              "      <td>2010-12-01 09:37:00</td>\n",
              "      <td>1.65</td>\n",
              "      <td>u14688</td>\n",
              "      <td>United Kingdom</td>\n",
              "      <td>16.50</td>\n",
              "      <td>LUNCH BAG RED RETROSPOT</td>\n",
              "    </tr>\n",
              "  </tbody>\n",
              "</table>\n",
              "</div>"
            ],
            "text/plain": [
              "  Invoice StockCode  Quantity          InvoiceDate  Price CustomerID  \\\n",
              "0  536365    85123A         6  2010-12-01 08:26:00   2.55      u1785   \n",
              "1  536367     84879        32  2010-12-01 08:34:00   1.69     u13047   \n",
              "2  536373    85123A         6  2010-12-01 09:02:00   2.55      u1785   \n",
              "3  536375    85123A         6  2010-12-01 09:32:00   2.55      u1785   \n",
              "4  536378     20725        10  2010-12-01 09:37:00   1.65     u14688   \n",
              "\n",
              "          Country  TotalAmount                         Description  \n",
              "0  United Kingdom        15.30  CREAM HANGING HEART T-LIGHT HOLDER  \n",
              "1  United Kingdom        54.08       ASSORTED COLOUR BIRD ORNAMENT  \n",
              "2  United Kingdom        15.30  CREAM HANGING HEART T-LIGHT HOLDER  \n",
              "3  United Kingdom        15.30  CREAM HANGING HEART T-LIGHT HOLDER  \n",
              "4  United Kingdom        16.50             LUNCH BAG RED RETROSPOT  "
            ]
          },
          "execution_count": 11,
          "metadata": {},
          "output_type": "execute_result"
        }
      ],
      "source": [
        "# Remove rows where \"Description\" is just a question mark (?).\n",
        "retail_history_agg_cleaned = retail_history_agg[retail_history_agg.Description != '?']\n",
        "\n",
        "# Preview the first five rows of the data.\n",
        "retail_history_agg_cleaned.head()"
      ]
    },
    {
      "cell_type": "code",
      "execution_count": null,
      "metadata": {
        "id": "Ntbe38hPn3kF",
        "outputId": "4a72e635-6721-4e0f-ab5e-119203df8302"
      },
      "outputs": [
        {
          "data": {
            "text/plain": [
              "CREAM HANGING HEART T-LIGHT HOLDER    2174\n",
              "JUMBO BAG RED RETROSPOT               1960\n",
              "REGENCY CAKESTAND 3 TIER              1711\n",
              "PARTY BUNTING                         1615\n",
              "LUNCH BAG RED RETROSPOT               1421\n",
              "ASSORTED COLOUR BIRD ORNAMENT         1405\n",
              "POPCORN HOLDER                        1329\n",
              "LUNCH BAG  BLACK SKULL.               1271\n",
              "SET OF 3 CAKE TINS PANTRY DESIGN      1257\n",
              "PACK OF 72 RETROSPOT CAKE CASES       1178\n",
              "Name: Description, dtype: int64"
            ]
          },
          "execution_count": 12,
          "metadata": {},
          "output_type": "execute_result"
        }
      ],
      "source": [
        "retail_history_agg_cleaned.Description.value_counts()"
      ]
    },
    {
      "cell_type": "code",
      "execution_count": null,
      "metadata": {
        "id": "Bx7D54-8n3kF",
        "outputId": "646bbcba-bddb-4d09-f3a8-5bcb05eb4edf"
      },
      "outputs": [
        {
          "data": {
            "text/plain": [
              "(15321, 9)"
            ]
          },
          "execution_count": 13,
          "metadata": {},
          "output_type": "execute_result"
        }
      ],
      "source": [
        "retail_history_agg_cleaned.shape"
      ]
    },
    {
      "cell_type": "markdown",
      "metadata": {
        "id": "8Py8uq0Cn3kF"
      },
      "source": [
        "# Identify and remove duplicates"
      ]
    },
    {
      "cell_type": "code",
      "execution_count": null,
      "metadata": {
        "id": "fKiPxPXAn3kF",
        "outputId": "53371ad1-3613-421e-f99a-00d4717b2e4f"
      },
      "outputs": [
        {
          "name": "stdout",
          "output_type": "stream",
          "text": [
            "Number of rows with duplicated data:  223\n"
          ]
        }
      ],
      "source": [
        "# Identify all duplicated data.\n",
        "duplicated_data=retail_history_agg_cleaned[retail_history_agg_cleaned.duplicated(keep=False)]\n",
        "\n",
        "print('Number of rows with duplicated data: ', duplicated_data.shape[0])"
      ]
    },
    {
      "cell_type": "code",
      "execution_count": null,
      "metadata": {
        "id": "ZII9elo_n3kF",
        "outputId": "37b96682-029e-406c-f38e-8a0c9a787470"
      },
      "outputs": [
        {
          "data": {
            "text/html": [
              "<div>\n",
              "<style scoped>\n",
              "    .dataframe tbody tr th:only-of-type {\n",
              "        vertical-align: middle;\n",
              "    }\n",
              "\n",
              "    .dataframe tbody tr th {\n",
              "        vertical-align: top;\n",
              "    }\n",
              "\n",
              "    .dataframe thead th {\n",
              "        text-align: right;\n",
              "    }\n",
              "</style>\n",
              "<table border=\"1\" class=\"dataframe\">\n",
              "  <thead>\n",
              "    <tr style=\"text-align: right;\">\n",
              "      <th></th>\n",
              "      <th>Invoice</th>\n",
              "      <th>StockCode</th>\n",
              "      <th>Quantity</th>\n",
              "      <th>InvoiceDate</th>\n",
              "      <th>Price</th>\n",
              "      <th>CustomerID</th>\n",
              "      <th>Country</th>\n",
              "      <th>TotalAmount</th>\n",
              "      <th>Description</th>\n",
              "    </tr>\n",
              "  </thead>\n",
              "  <tbody>\n",
              "    <tr>\n",
              "      <th>176</th>\n",
              "      <td>536863</td>\n",
              "      <td>20727</td>\n",
              "      <td>1</td>\n",
              "      <td>2010-12-03 11:19:00</td>\n",
              "      <td>1.65</td>\n",
              "      <td>u17967</td>\n",
              "      <td>United Kingdom</td>\n",
              "      <td>1.65</td>\n",
              "      <td>LUNCH BAG  BLACK SKULL.</td>\n",
              "    </tr>\n",
              "    <tr>\n",
              "      <th>178</th>\n",
              "      <td>536863</td>\n",
              "      <td>20727</td>\n",
              "      <td>1</td>\n",
              "      <td>2010-12-03 11:19:00</td>\n",
              "      <td>1.65</td>\n",
              "      <td>u17967</td>\n",
              "      <td>United Kingdom</td>\n",
              "      <td>1.65</td>\n",
              "      <td>LUNCH BAG  BLACK SKULL.</td>\n",
              "    </tr>\n",
              "    <tr>\n",
              "      <th>496</th>\n",
              "      <td>537781</td>\n",
              "      <td>84879</td>\n",
              "      <td>8</td>\n",
              "      <td>2010-12-08 12:46:00</td>\n",
              "      <td>1.69</td>\n",
              "      <td>u17341</td>\n",
              "      <td>United Kingdom</td>\n",
              "      <td>13.52</td>\n",
              "      <td>ASSORTED COLOUR BIRD ORNAMENT</td>\n",
              "    </tr>\n",
              "    <tr>\n",
              "      <th>497</th>\n",
              "      <td>537781</td>\n",
              "      <td>84879</td>\n",
              "      <td>8</td>\n",
              "      <td>2010-12-08 12:46:00</td>\n",
              "      <td>1.69</td>\n",
              "      <td>u17341</td>\n",
              "      <td>United Kingdom</td>\n",
              "      <td>13.52</td>\n",
              "      <td>ASSORTED COLOUR BIRD ORNAMENT</td>\n",
              "    </tr>\n",
              "    <tr>\n",
              "      <th>569</th>\n",
              "      <td>537955</td>\n",
              "      <td>20725</td>\n",
              "      <td>1</td>\n",
              "      <td>2010-12-09 11:28:00</td>\n",
              "      <td>1.65</td>\n",
              "      <td>u16782</td>\n",
              "      <td>United Kingdom</td>\n",
              "      <td>1.65</td>\n",
              "      <td>LUNCH BAG RED RETROSPOT</td>\n",
              "    </tr>\n",
              "    <tr>\n",
              "      <th>...</th>\n",
              "      <td>...</td>\n",
              "      <td>...</td>\n",
              "      <td>...</td>\n",
              "      <td>...</td>\n",
              "      <td>...</td>\n",
              "      <td>...</td>\n",
              "      <td>...</td>\n",
              "      <td>...</td>\n",
              "      <td>...</td>\n",
              "    </tr>\n",
              "    <tr>\n",
              "      <th>16673</th>\n",
              "      <td>580469</td>\n",
              "      <td>20727</td>\n",
              "      <td>1</td>\n",
              "      <td>2011-12-04 12:32:00</td>\n",
              "      <td>1.65</td>\n",
              "      <td>u14583</td>\n",
              "      <td>United Kingdom</td>\n",
              "      <td>1.65</td>\n",
              "      <td>LUNCH BAG  BLACK SKULL.</td>\n",
              "    </tr>\n",
              "    <tr>\n",
              "      <th>16714</th>\n",
              "      <td>580611</td>\n",
              "      <td>20727</td>\n",
              "      <td>1</td>\n",
              "      <td>2011-12-05 11:49:00</td>\n",
              "      <td>1.65</td>\n",
              "      <td>u12748</td>\n",
              "      <td>United Kingdom</td>\n",
              "      <td>1.65</td>\n",
              "      <td>LUNCH BAG  BLACK SKULL.</td>\n",
              "    </tr>\n",
              "    <tr>\n",
              "      <th>16716</th>\n",
              "      <td>580611</td>\n",
              "      <td>20727</td>\n",
              "      <td>1</td>\n",
              "      <td>2011-12-05 11:49:00</td>\n",
              "      <td>1.65</td>\n",
              "      <td>u12748</td>\n",
              "      <td>United Kingdom</td>\n",
              "      <td>1.65</td>\n",
              "      <td>LUNCH BAG  BLACK SKULL.</td>\n",
              "    </tr>\n",
              "    <tr>\n",
              "      <th>16994</th>\n",
              "      <td>581449</td>\n",
              "      <td>22423</td>\n",
              "      <td>1</td>\n",
              "      <td>2011-12-08 17:37:00</td>\n",
              "      <td>12.75</td>\n",
              "      <td>u12748</td>\n",
              "      <td>United Kingdom</td>\n",
              "      <td>12.75</td>\n",
              "      <td>REGENCY CAKESTAND 3 TIER</td>\n",
              "    </tr>\n",
              "    <tr>\n",
              "      <th>16996</th>\n",
              "      <td>581449</td>\n",
              "      <td>22423</td>\n",
              "      <td>1</td>\n",
              "      <td>2011-12-08 17:37:00</td>\n",
              "      <td>12.75</td>\n",
              "      <td>u12748</td>\n",
              "      <td>United Kingdom</td>\n",
              "      <td>12.75</td>\n",
              "      <td>REGENCY CAKESTAND 3 TIER</td>\n",
              "    </tr>\n",
              "  </tbody>\n",
              "</table>\n",
              "<p>223 rows × 9 columns</p>\n",
              "</div>"
            ],
            "text/plain": [
              "      Invoice StockCode  Quantity          InvoiceDate  Price CustomerID  \\\n",
              "176    536863     20727         1  2010-12-03 11:19:00   1.65     u17967   \n",
              "178    536863     20727         1  2010-12-03 11:19:00   1.65     u17967   \n",
              "496    537781     84879         8  2010-12-08 12:46:00   1.69     u17341   \n",
              "497    537781     84879         8  2010-12-08 12:46:00   1.69     u17341   \n",
              "569    537955     20725         1  2010-12-09 11:28:00   1.65     u16782   \n",
              "...       ...       ...       ...                  ...    ...        ...   \n",
              "16673  580469     20727         1  2011-12-04 12:32:00   1.65     u14583   \n",
              "16714  580611     20727         1  2011-12-05 11:49:00   1.65     u12748   \n",
              "16716  580611     20727         1  2011-12-05 11:49:00   1.65     u12748   \n",
              "16994  581449     22423         1  2011-12-08 17:37:00  12.75     u12748   \n",
              "16996  581449     22423         1  2011-12-08 17:37:00  12.75     u12748   \n",
              "\n",
              "              Country  TotalAmount                    Description  \n",
              "176    United Kingdom         1.65        LUNCH BAG  BLACK SKULL.  \n",
              "178    United Kingdom         1.65        LUNCH BAG  BLACK SKULL.  \n",
              "496    United Kingdom        13.52  ASSORTED COLOUR BIRD ORNAMENT  \n",
              "497    United Kingdom        13.52  ASSORTED COLOUR BIRD ORNAMENT  \n",
              "569    United Kingdom         1.65        LUNCH BAG RED RETROSPOT  \n",
              "...               ...          ...                            ...  \n",
              "16673  United Kingdom         1.65        LUNCH BAG  BLACK SKULL.  \n",
              "16714  United Kingdom         1.65        LUNCH BAG  BLACK SKULL.  \n",
              "16716  United Kingdom         1.65        LUNCH BAG  BLACK SKULL.  \n",
              "16994  United Kingdom        12.75       REGENCY CAKESTAND 3 TIER  \n",
              "16996  United Kingdom        12.75       REGENCY CAKESTAND 3 TIER  \n",
              "\n",
              "[223 rows x 9 columns]"
            ]
          },
          "execution_count": 15,
          "metadata": {},
          "output_type": "execute_result"
        }
      ],
      "source": [
        "# Print the duplicated data.\n",
        "duplicated_data"
      ]
    },
    {
      "cell_type": "code",
      "execution_count": null,
      "metadata": {
        "id": "1_Cj444Gn3kF",
        "outputId": "97797a79-6e4a-4d50-c27d-9af27c07f3b8"
      },
      "outputs": [
        {
          "data": {
            "text/html": [
              "<div>\n",
              "<style scoped>\n",
              "    .dataframe tbody tr th:only-of-type {\n",
              "        vertical-align: middle;\n",
              "    }\n",
              "\n",
              "    .dataframe tbody tr th {\n",
              "        vertical-align: top;\n",
              "    }\n",
              "\n",
              "    .dataframe thead th {\n",
              "        text-align: right;\n",
              "    }\n",
              "</style>\n",
              "<table border=\"1\" class=\"dataframe\">\n",
              "  <thead>\n",
              "    <tr style=\"text-align: right;\">\n",
              "      <th></th>\n",
              "      <th>Invoice</th>\n",
              "      <th>StockCode</th>\n",
              "      <th>Quantity</th>\n",
              "      <th>InvoiceDate</th>\n",
              "      <th>Price</th>\n",
              "      <th>CustomerID</th>\n",
              "      <th>Country</th>\n",
              "      <th>TotalAmount</th>\n",
              "      <th>Description</th>\n",
              "    </tr>\n",
              "  </thead>\n",
              "  <tbody>\n",
              "    <tr>\n",
              "      <th>0</th>\n",
              "      <td>536365</td>\n",
              "      <td>85123A</td>\n",
              "      <td>6</td>\n",
              "      <td>2010-12-01 08:26:00</td>\n",
              "      <td>2.55</td>\n",
              "      <td>u1785</td>\n",
              "      <td>United Kingdom</td>\n",
              "      <td>15.30</td>\n",
              "      <td>CREAM HANGING HEART T-LIGHT HOLDER</td>\n",
              "    </tr>\n",
              "    <tr>\n",
              "      <th>1</th>\n",
              "      <td>536367</td>\n",
              "      <td>84879</td>\n",
              "      <td>32</td>\n",
              "      <td>2010-12-01 08:34:00</td>\n",
              "      <td>1.69</td>\n",
              "      <td>u13047</td>\n",
              "      <td>United Kingdom</td>\n",
              "      <td>54.08</td>\n",
              "      <td>ASSORTED COLOUR BIRD ORNAMENT</td>\n",
              "    </tr>\n",
              "    <tr>\n",
              "      <th>2</th>\n",
              "      <td>536373</td>\n",
              "      <td>85123A</td>\n",
              "      <td>6</td>\n",
              "      <td>2010-12-01 09:02:00</td>\n",
              "      <td>2.55</td>\n",
              "      <td>u1785</td>\n",
              "      <td>United Kingdom</td>\n",
              "      <td>15.30</td>\n",
              "      <td>CREAM HANGING HEART T-LIGHT HOLDER</td>\n",
              "    </tr>\n",
              "    <tr>\n",
              "      <th>3</th>\n",
              "      <td>536375</td>\n",
              "      <td>85123A</td>\n",
              "      <td>6</td>\n",
              "      <td>2010-12-01 09:32:00</td>\n",
              "      <td>2.55</td>\n",
              "      <td>u1785</td>\n",
              "      <td>United Kingdom</td>\n",
              "      <td>15.30</td>\n",
              "      <td>CREAM HANGING HEART T-LIGHT HOLDER</td>\n",
              "    </tr>\n",
              "    <tr>\n",
              "      <th>4</th>\n",
              "      <td>536378</td>\n",
              "      <td>20725</td>\n",
              "      <td>10</td>\n",
              "      <td>2010-12-01 09:37:00</td>\n",
              "      <td>1.65</td>\n",
              "      <td>u14688</td>\n",
              "      <td>United Kingdom</td>\n",
              "      <td>16.50</td>\n",
              "      <td>LUNCH BAG RED RETROSPOT</td>\n",
              "    </tr>\n",
              "  </tbody>\n",
              "</table>\n",
              "</div>"
            ],
            "text/plain": [
              "  Invoice StockCode  Quantity          InvoiceDate  Price CustomerID  \\\n",
              "0  536365    85123A         6  2010-12-01 08:26:00   2.55      u1785   \n",
              "1  536367     84879        32  2010-12-01 08:34:00   1.69     u13047   \n",
              "2  536373    85123A         6  2010-12-01 09:02:00   2.55      u1785   \n",
              "3  536375    85123A         6  2010-12-01 09:32:00   2.55      u1785   \n",
              "4  536378     20725        10  2010-12-01 09:37:00   1.65     u14688   \n",
              "\n",
              "          Country  TotalAmount                         Description  \n",
              "0  United Kingdom        15.30  CREAM HANGING HEART T-LIGHT HOLDER  \n",
              "1  United Kingdom        54.08       ASSORTED COLOUR BIRD ORNAMENT  \n",
              "2  United Kingdom        15.30  CREAM HANGING HEART T-LIGHT HOLDER  \n",
              "3  United Kingdom        15.30  CREAM HANGING HEART T-LIGHT HOLDER  \n",
              "4  United Kingdom        16.50             LUNCH BAG RED RETROSPOT  "
            ]
          },
          "execution_count": 16,
          "metadata": {},
          "output_type": "execute_result"
        }
      ],
      "source": [
        "# Remove the duplicated data.\n",
        "retail_history_cleaned_2=retail_history_agg_cleaned[~retail_history_agg_cleaned.duplicated()]\n",
        "\n",
        "# Preview the first five rows of the data.\n",
        "retail_history_cleaned_2.head()"
      ]
    },
    {
      "cell_type": "code",
      "execution_count": null,
      "metadata": {
        "id": "I_dQ8mGgn3kG",
        "outputId": "eba6caa6-198a-4401-8fea-d16e5c3b5836"
      },
      "outputs": [
        {
          "name": "stdout",
          "output_type": "stream",
          "text": [
            "Number of rows with duplicated data:  0\n"
          ]
        }
      ],
      "source": [
        "# check if duplicated data was deleted\n",
        "duplicated_data=retail_history_cleaned_2[retail_history_cleaned_2.duplicated(keep=False)]\n",
        "\n",
        "print('Number of rows with duplicated data: ', duplicated_data.shape[0])"
      ]
    },
    {
      "cell_type": "markdown",
      "metadata": {
        "id": "32A4VVoJn3kG"
      },
      "source": [
        "# Correct date formats"
      ]
    },
    {
      "cell_type": "code",
      "execution_count": null,
      "metadata": {
        "id": "er1FFPaXn3kG",
        "outputId": "f17d4e4f-23e8-484e-be7b-707ad764f228"
      },
      "outputs": [
        {
          "name": "stdout",
          "output_type": "stream",
          "text": [
            "<class 'pandas.core.frame.DataFrame'>\n",
            "Int64Index: 15206 entries, 0 to 17031\n",
            "Data columns (total 9 columns):\n",
            " #   Column       Non-Null Count  Dtype  \n",
            "---  ------       --------------  -----  \n",
            " 0   Invoice      15206 non-null  object \n",
            " 1   StockCode    15206 non-null  object \n",
            " 2   Quantity     15206 non-null  int64  \n",
            " 3   InvoiceDate  15206 non-null  object \n",
            " 4   Price        15194 non-null  float64\n",
            " 5   CustomerID   12435 non-null  object \n",
            " 6   Country      15206 non-null  object \n",
            " 7   TotalAmount  15194 non-null  float64\n",
            " 8   Description  15206 non-null  object \n",
            "dtypes: float64(2), int64(1), object(6)\n",
            "memory usage: 1.2+ MB\n"
          ]
        }
      ],
      "source": [
        "# Get the data types for every column in the DataFrame.\n",
        "retail_history_cleaned_2.info()"
      ]
    },
    {
      "cell_type": "code",
      "execution_count": null,
      "metadata": {
        "id": "VW6Ahrm-n3kG"
      },
      "outputs": [],
      "source": [
        "# Convert \"InvoiceDate\" to a \"%Y-%m-%d\" datetime format.\n",
        "retail_history_cleaned_3= retail_history_cleaned_2.copy()\n",
        "\n",
        "retail_history_cleaned_3['InvoiceDate']=pd.to_datetime(retail_history_cleaned_3['InvoiceDate'],\n",
        "                                             format='%Y-%m-%d')"
      ]
    },
    {
      "cell_type": "code",
      "execution_count": null,
      "metadata": {
        "id": "JmxLPTWJn3kG",
        "outputId": "7144a8d6-1ea7-4213-d5e4-4a540e6b5269"
      },
      "outputs": [
        {
          "name": "stdout",
          "output_type": "stream",
          "text": [
            "<class 'pandas.core.frame.DataFrame'>\n",
            "Int64Index: 15206 entries, 0 to 17031\n",
            "Data columns (total 9 columns):\n",
            " #   Column       Non-Null Count  Dtype         \n",
            "---  ------       --------------  -----         \n",
            " 0   Invoice      15206 non-null  object        \n",
            " 1   StockCode    15206 non-null  object        \n",
            " 2   Quantity     15206 non-null  int64         \n",
            " 3   InvoiceDate  15206 non-null  datetime64[ns]\n",
            " 4   Price        15194 non-null  float64       \n",
            " 5   CustomerID   12435 non-null  object        \n",
            " 6   Country      15206 non-null  object        \n",
            " 7   TotalAmount  15194 non-null  float64       \n",
            " 8   Description  15206 non-null  object        \n",
            "dtypes: datetime64[ns](1), float64(2), int64(1), object(5)\n",
            "memory usage: 1.2+ MB\n"
          ]
        }
      ],
      "source": [
        "# Get the data types for every column in the converted DataFrame.\n",
        "retail_history_cleaned_3.info()"
      ]
    },
    {
      "cell_type": "markdown",
      "metadata": {
        "id": "tPPZ87Wpn3kG"
      },
      "source": [
        "# Examine the table before finishing"
      ]
    },
    {
      "cell_type": "code",
      "execution_count": null,
      "metadata": {
        "id": "hprGEIVZn3kG",
        "outputId": "9409ce34-a0de-46f3-e9cb-2827ed2d7d2e"
      },
      "outputs": [
        {
          "data": {
            "text/html": [
              "<div>\n",
              "<style scoped>\n",
              "    .dataframe tbody tr th:only-of-type {\n",
              "        vertical-align: middle;\n",
              "    }\n",
              "\n",
              "    .dataframe tbody tr th {\n",
              "        vertical-align: top;\n",
              "    }\n",
              "\n",
              "    .dataframe thead th {\n",
              "        text-align: right;\n",
              "    }\n",
              "</style>\n",
              "<table border=\"1\" class=\"dataframe\">\n",
              "  <thead>\n",
              "    <tr style=\"text-align: right;\">\n",
              "      <th></th>\n",
              "      <th>Invoice</th>\n",
              "      <th>StockCode</th>\n",
              "      <th>Quantity</th>\n",
              "      <th>InvoiceDate</th>\n",
              "      <th>Price</th>\n",
              "      <th>CustomerID</th>\n",
              "      <th>Country</th>\n",
              "      <th>TotalAmount</th>\n",
              "      <th>Description</th>\n",
              "    </tr>\n",
              "  </thead>\n",
              "  <tbody>\n",
              "    <tr>\n",
              "      <th>0</th>\n",
              "      <td>536365</td>\n",
              "      <td>85123A</td>\n",
              "      <td>6</td>\n",
              "      <td>2010-12-01 08:26:00</td>\n",
              "      <td>2.55</td>\n",
              "      <td>u1785</td>\n",
              "      <td>United Kingdom</td>\n",
              "      <td>15.30</td>\n",
              "      <td>CREAM HANGING HEART T-LIGHT HOLDER</td>\n",
              "    </tr>\n",
              "    <tr>\n",
              "      <th>1</th>\n",
              "      <td>536367</td>\n",
              "      <td>84879</td>\n",
              "      <td>32</td>\n",
              "      <td>2010-12-01 08:34:00</td>\n",
              "      <td>1.69</td>\n",
              "      <td>u13047</td>\n",
              "      <td>United Kingdom</td>\n",
              "      <td>54.08</td>\n",
              "      <td>ASSORTED COLOUR BIRD ORNAMENT</td>\n",
              "    </tr>\n",
              "    <tr>\n",
              "      <th>2</th>\n",
              "      <td>536373</td>\n",
              "      <td>85123A</td>\n",
              "      <td>6</td>\n",
              "      <td>2010-12-01 09:02:00</td>\n",
              "      <td>2.55</td>\n",
              "      <td>u1785</td>\n",
              "      <td>United Kingdom</td>\n",
              "      <td>15.30</td>\n",
              "      <td>CREAM HANGING HEART T-LIGHT HOLDER</td>\n",
              "    </tr>\n",
              "    <tr>\n",
              "      <th>3</th>\n",
              "      <td>536375</td>\n",
              "      <td>85123A</td>\n",
              "      <td>6</td>\n",
              "      <td>2010-12-01 09:32:00</td>\n",
              "      <td>2.55</td>\n",
              "      <td>u1785</td>\n",
              "      <td>United Kingdom</td>\n",
              "      <td>15.30</td>\n",
              "      <td>CREAM HANGING HEART T-LIGHT HOLDER</td>\n",
              "    </tr>\n",
              "    <tr>\n",
              "      <th>4</th>\n",
              "      <td>536378</td>\n",
              "      <td>20725</td>\n",
              "      <td>10</td>\n",
              "      <td>2010-12-01 09:37:00</td>\n",
              "      <td>1.65</td>\n",
              "      <td>u14688</td>\n",
              "      <td>United Kingdom</td>\n",
              "      <td>16.50</td>\n",
              "      <td>LUNCH BAG RED RETROSPOT</td>\n",
              "    </tr>\n",
              "  </tbody>\n",
              "</table>\n",
              "</div>"
            ],
            "text/plain": [
              "  Invoice StockCode  Quantity         InvoiceDate  Price CustomerID  \\\n",
              "0  536365    85123A         6 2010-12-01 08:26:00   2.55      u1785   \n",
              "1  536367     84879        32 2010-12-01 08:34:00   1.69     u13047   \n",
              "2  536373    85123A         6 2010-12-01 09:02:00   2.55      u1785   \n",
              "3  536375    85123A         6 2010-12-01 09:32:00   2.55      u1785   \n",
              "4  536378     20725        10 2010-12-01 09:37:00   1.65     u14688   \n",
              "\n",
              "          Country  TotalAmount                         Description  \n",
              "0  United Kingdom        15.30  CREAM HANGING HEART T-LIGHT HOLDER  \n",
              "1  United Kingdom        54.08       ASSORTED COLOUR BIRD ORNAMENT  \n",
              "2  United Kingdom        15.30  CREAM HANGING HEART T-LIGHT HOLDER  \n",
              "3  United Kingdom        15.30  CREAM HANGING HEART T-LIGHT HOLDER  \n",
              "4  United Kingdom        16.50             LUNCH BAG RED RETROSPOT  "
            ]
          },
          "execution_count": 21,
          "metadata": {},
          "output_type": "execute_result"
        }
      ],
      "source": [
        "# Preview the first five rows of the data.\n",
        "retail_history_cleaned_3.head()"
      ]
    },
    {
      "cell_type": "markdown",
      "metadata": {
        "id": "Z6THEsVPn3kG"
      },
      "source": [
        "# Load the dataset into a pickle file"
      ]
    },
    {
      "cell_type": "code",
      "execution_count": null,
      "metadata": {
        "id": "VmcVyOOHn3kH"
      },
      "outputs": [],
      "source": [
        "# Save the dataset as a pickle file named online_history_cleaned.pickle.\n",
        "retail_history_cleaned_3.to_pickle('online_history_cleaned.pickle')"
      ]
    },
    {
      "cell_type": "code",
      "execution_count": null,
      "metadata": {
        "id": "0wesc0U9n3kH"
      },
      "outputs": [],
      "source": [
        "# Close any connections to the database.\n",
        "conn.close()"
      ]
    },
    {
      "cell_type": "code",
      "execution_count": null,
      "metadata": {
        "id": "XXzyq5GEn3kH"
      },
      "outputs": [],
      "source": []
    }
  ],
  "metadata": {
    "kernelspec": {
      "display_name": "Python 3",
      "language": "python",
      "name": "python3"
    },
    "language_info": {
      "codemirror_mode": {
        "name": "ipython",
        "version": 3
      },
      "file_extension": ".py",
      "mimetype": "text/x-python",
      "name": "python",
      "nbconvert_exporter": "python",
      "pygments_lexer": "ipython3",
      "version": "3.7.6"
    },
    "colab": {
      "provenance": []
    }
  },
  "nbformat": 4,
  "nbformat_minor": 0
}