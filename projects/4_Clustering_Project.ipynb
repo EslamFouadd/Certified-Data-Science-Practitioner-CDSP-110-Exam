{
 "cells": [
  {
   "cell_type": "markdown",
   "metadata": {},
   "source": [
    "# Import software libraries"
   ]
  },
  {
   "cell_type": "code",
   "execution_count": 1,
   "metadata": {},
   "outputs": [
    {
     "name": "stdout",
     "output_type": "stream",
     "text": [
      "Libraries used in this project:\n",
      "- Python 3.7.6 | packaged by conda-forge | (default, Mar 23 2020, 23:03:20) \n",
      "[GCC 7.3.0]\n",
      "- pandas 1.1.3\n",
      "- Matplotlib 3.3.2\n",
      "- Seaborn 0.11.0\n",
      "- Yellowbrick 1.3.post1\n",
      "- scikit-learn 0.23.2\n"
     ]
    }
   ],
   "source": [
    "# Import required libraries.\n",
    "import sys                                                  # Read system parameters.\n",
    "import pandas as pd                                         # Manipulate and analyze data.\n",
    "import matplotlib                                           # Create and format charts.\n",
    "import matplotlib.pyplot as plt  \n",
    "import seaborn as sns                                       # Make charting easier.\n",
    "import yellowbrick                                          # Visualize elbow and silhouette plots.\n",
    "from yellowbrick.cluster import SilhouetteVisualizer\n",
    "import sklearn                                              # Train and evaluate machine learning models.\n",
    "from sklearn.preprocessing import StandardScaler\n",
    "from sklearn.cluster import KMeans\n",
    "from sklearn.decomposition import PCA\n",
    "import pickle                                               # Save Python objects as binary files.\n",
    "from collections import Counter\n",
    "import warnings                                             # Suppress warnings.\n",
    "warnings.filterwarnings('ignore')\n",
    "\n",
    "# Summarize software libraries used.\n",
    "print('Libraries used in this project:')\n",
    "print('- Python {}'.format(sys.version))\n",
    "print('- pandas {}'.format(pd.__version__))\n",
    "print('- Matplotlib {}'.format(matplotlib.__version__))\n",
    "print('- Seaborn {}'.format(sns.__version__))\n",
    "print('- Yellowbrick {}'.format(yellowbrick.__version__))\n",
    "print('- scikit-learn {}'.format(sklearn.__version__))"
   ]
  },
  {
   "cell_type": "markdown",
   "metadata": {},
   "source": [
    "# Read and examine the data"
   ]
  },
  {
   "cell_type": "code",
   "execution_count": 3,
   "metadata": {},
   "outputs": [
    {
     "data": {
      "text/html": [
       "<div>\n",
       "<style scoped>\n",
       "    .dataframe tbody tr th:only-of-type {\n",
       "        vertical-align: middle;\n",
       "    }\n",
       "\n",
       "    .dataframe tbody tr th {\n",
       "        vertical-align: top;\n",
       "    }\n",
       "\n",
       "    .dataframe thead th {\n",
       "        text-align: right;\n",
       "    }\n",
       "</style>\n",
       "<table border=\"1\" class=\"dataframe\">\n",
       "  <thead>\n",
       "    <tr style=\"text-align: right;\">\n",
       "      <th></th>\n",
       "      <th>frequency</th>\n",
       "      <th>recency</th>\n",
       "      <th>tenure</th>\n",
       "      <th>monetary_value</th>\n",
       "      <th>number_unique_items</th>\n",
       "      <th>churned</th>\n",
       "    </tr>\n",
       "  </thead>\n",
       "  <tbody>\n",
       "    <tr>\n",
       "      <th>u12747</th>\n",
       "      <td>6.0</td>\n",
       "      <td>367.0</td>\n",
       "      <td>369.0</td>\n",
       "      <td>39.19</td>\n",
       "      <td>3</td>\n",
       "      <td>True</td>\n",
       "    </tr>\n",
       "    <tr>\n",
       "      <th>u12748</th>\n",
       "      <td>41.0</td>\n",
       "      <td>365.0</td>\n",
       "      <td>369.0</td>\n",
       "      <td>12.01</td>\n",
       "      <td>9</td>\n",
       "      <td>False</td>\n",
       "    </tr>\n",
       "    <tr>\n",
       "      <th>u12749</th>\n",
       "      <td>2.0</td>\n",
       "      <td>127.0</td>\n",
       "      <td>130.0</td>\n",
       "      <td>22.28</td>\n",
       "      <td>2</td>\n",
       "      <td>True</td>\n",
       "    </tr>\n",
       "    <tr>\n",
       "      <th>u1282</th>\n",
       "      <td>0.0</td>\n",
       "      <td>0.0</td>\n",
       "      <td>326.0</td>\n",
       "      <td>0.00</td>\n",
       "      <td>1</td>\n",
       "      <td>False</td>\n",
       "    </tr>\n",
       "    <tr>\n",
       "      <th>u12822</th>\n",
       "      <td>0.0</td>\n",
       "      <td>0.0</td>\n",
       "      <td>87.0</td>\n",
       "      <td>0.00</td>\n",
       "      <td>1</td>\n",
       "      <td>True</td>\n",
       "    </tr>\n",
       "  </tbody>\n",
       "</table>\n",
       "</div>"
      ],
      "text/plain": [
       "        frequency  recency  tenure  monetary_value  number_unique_items  \\\n",
       "u12747        6.0    367.0   369.0           39.19                    3   \n",
       "u12748       41.0    365.0   369.0           12.01                    9   \n",
       "u12749        2.0    127.0   130.0           22.28                    2   \n",
       "u1282         0.0      0.0   326.0            0.00                    1   \n",
       "u12822        0.0      0.0    87.0            0.00                    1   \n",
       "\n",
       "        churned  \n",
       "u12747     True  \n",
       "u12748    False  \n",
       "u12749     True  \n",
       "u1282     False  \n",
       "u12822     True  "
      ]
     },
     "execution_count": 3,
     "metadata": {},
     "output_type": "execute_result"
    }
   ],
   "source": [
    "# Read the data.\n",
    "data = pd.read_pickle('data/customer_data.pickle')\n",
    "\n",
    "\n",
    "# Preview the first five rows of the data.\n",
    "\n",
    "data.head()"
   ]
  },
  {
   "cell_type": "code",
   "execution_count": 4,
   "metadata": {},
   "outputs": [
    {
     "data": {
      "text/html": [
       "<div>\n",
       "<style scoped>\n",
       "    .dataframe tbody tr th:only-of-type {\n",
       "        vertical-align: middle;\n",
       "    }\n",
       "\n",
       "    .dataframe tbody tr th {\n",
       "        vertical-align: top;\n",
       "    }\n",
       "\n",
       "    .dataframe thead th {\n",
       "        text-align: right;\n",
       "    }\n",
       "</style>\n",
       "<table border=\"1\" class=\"dataframe\">\n",
       "  <thead>\n",
       "    <tr style=\"text-align: right;\">\n",
       "      <th></th>\n",
       "      <th>frequency</th>\n",
       "      <th>recency</th>\n",
       "      <th>tenure</th>\n",
       "      <th>monetary_value</th>\n",
       "      <th>number_unique_items</th>\n",
       "    </tr>\n",
       "  </thead>\n",
       "  <tbody>\n",
       "    <tr>\n",
       "      <th>count</th>\n",
       "      <td>2130.000000</td>\n",
       "      <td>2130.000000</td>\n",
       "      <td>2130.000000</td>\n",
       "      <td>2130.000000</td>\n",
       "      <td>2130.000000</td>\n",
       "    </tr>\n",
       "    <tr>\n",
       "      <th>mean</th>\n",
       "      <td>1.662441</td>\n",
       "      <td>98.435681</td>\n",
       "      <td>214.496244</td>\n",
       "      <td>12.423202</td>\n",
       "      <td>2.151643</td>\n",
       "    </tr>\n",
       "    <tr>\n",
       "      <th>std</th>\n",
       "      <td>3.399520</td>\n",
       "      <td>119.996700</td>\n",
       "      <td>112.923328</td>\n",
       "      <td>16.514363</td>\n",
       "      <td>1.444775</td>\n",
       "    </tr>\n",
       "    <tr>\n",
       "      <th>min</th>\n",
       "      <td>0.000000</td>\n",
       "      <td>0.000000</td>\n",
       "      <td>1.000000</td>\n",
       "      <td>0.000000</td>\n",
       "      <td>1.000000</td>\n",
       "    </tr>\n",
       "    <tr>\n",
       "      <th>25%</th>\n",
       "      <td>0.000000</td>\n",
       "      <td>0.000000</td>\n",
       "      <td>110.000000</td>\n",
       "      <td>0.000000</td>\n",
       "      <td>1.000000</td>\n",
       "    </tr>\n",
       "    <tr>\n",
       "      <th>50%</th>\n",
       "      <td>1.000000</td>\n",
       "      <td>25.000000</td>\n",
       "      <td>240.000000</td>\n",
       "      <td>4.250000</td>\n",
       "      <td>2.000000</td>\n",
       "    </tr>\n",
       "    <tr>\n",
       "      <th>75%</th>\n",
       "      <td>2.000000</td>\n",
       "      <td>195.000000</td>\n",
       "      <td>311.000000</td>\n",
       "      <td>20.800000</td>\n",
       "      <td>3.000000</td>\n",
       "    </tr>\n",
       "    <tr>\n",
       "      <th>max</th>\n",
       "      <td>78.000000</td>\n",
       "      <td>372.000000</td>\n",
       "      <td>373.000000</td>\n",
       "      <td>234.300000</td>\n",
       "      <td>9.000000</td>\n",
       "    </tr>\n",
       "  </tbody>\n",
       "</table>\n",
       "</div>"
      ],
      "text/plain": [
       "         frequency      recency       tenure  monetary_value  \\\n",
       "count  2130.000000  2130.000000  2130.000000     2130.000000   \n",
       "mean      1.662441    98.435681   214.496244       12.423202   \n",
       "std       3.399520   119.996700   112.923328       16.514363   \n",
       "min       0.000000     0.000000     1.000000        0.000000   \n",
       "25%       0.000000     0.000000   110.000000        0.000000   \n",
       "50%       1.000000    25.000000   240.000000        4.250000   \n",
       "75%       2.000000   195.000000   311.000000       20.800000   \n",
       "max      78.000000   372.000000   373.000000      234.300000   \n",
       "\n",
       "       number_unique_items  \n",
       "count          2130.000000  \n",
       "mean              2.151643  \n",
       "std               1.444775  \n",
       "min               1.000000  \n",
       "25%               1.000000  \n",
       "50%               2.000000  \n",
       "75%               3.000000  \n",
       "max               9.000000  "
      ]
     },
     "execution_count": 4,
     "metadata": {},
     "output_type": "execute_result"
    }
   ],
   "source": [
    "# Get summary statistics for the dataset.\n",
    "# Count, mean, standard deviation, minimum, maximum, etc.\n",
    "\n",
    "data.describe()"
   ]
  },
  {
   "cell_type": "code",
   "execution_count": 5,
   "metadata": {},
   "outputs": [
    {
     "name": "stdout",
     "output_type": "stream",
     "text": [
      "<class 'pandas.core.frame.DataFrame'>\n",
      "Index: 2130 entries, u12747 to u18283\n",
      "Data columns (total 6 columns):\n",
      " #   Column               Non-Null Count  Dtype  \n",
      "---  ------               --------------  -----  \n",
      " 0   frequency            2130 non-null   float64\n",
      " 1   recency              2130 non-null   float64\n",
      " 2   tenure               2130 non-null   float64\n",
      " 3   monetary_value       2130 non-null   float64\n",
      " 4   number_unique_items  2130 non-null   int64  \n",
      " 5   churned              2130 non-null   bool   \n",
      "dtypes: bool(1), float64(4), int64(1)\n",
      "memory usage: 101.9+ KB\n"
     ]
    }
   ],
   "source": [
    "# Check the structure of the data.\n",
    "\n",
    "data.info()"
   ]
  },
  {
   "cell_type": "code",
   "execution_count": 6,
   "metadata": {},
   "outputs": [
    {
     "data": {
      "text/plain": [
       "(2130, 6)"
      ]
     },
     "execution_count": 6,
     "metadata": {},
     "output_type": "execute_result"
    }
   ],
   "source": [
    "# Get the shape of the data.\n",
    "data.shape\n"
   ]
  },
  {
   "cell_type": "markdown",
   "metadata": {},
   "source": [
    "# Train a *k*-means clustering model"
   ]
  },
  {
   "cell_type": "code",
   "execution_count": 9,
   "metadata": {},
   "outputs": [],
   "source": [
    "# Standardize the training data.\n",
    "\n",
    "scaler = StandardScaler()\n",
    "scaler.fit(data)\n",
    "data_scaled= scaler.transform(data)"
   ]
  },
  {
   "cell_type": "code",
   "execution_count": 10,
   "metadata": {},
   "outputs": [],
   "source": [
    "# Identify the optimal number of clusters for segmenting customers.\n",
    "\n",
    "def optimal_number_clusters(data_scaled):\n",
    "    \"\"\"Calculates optimal number of clusted based on elbow method.\"\"\"\n",
    "    \n",
    "    sum_of_squared_distances = []\n",
    "    K = range(1, 30)  # Define the range of clusters to try.\n",
    "\n",
    "    for k in K:\n",
    "        km = KMeans(n_clusters = k)\n",
    "        km = km.fit(data_scaled)\n",
    "        sum_of_squared_distances.append(km.inertia_)\n",
    "\n",
    "    plt.figure(figsize=(20, 6))\n",
    "\n",
    "    plt.plot(K, sum_of_squared_distances, 'bx-')\n",
    "    plt.xlabel('k')\n",
    "    plt.ylabel('Sum of Squared Distances')\n",
    "    plt.title('Elbow Method For Optimal k')\n",
    "    plt.show()"
   ]
  },
  {
   "cell_type": "code",
   "execution_count": 11,
   "metadata": {},
   "outputs": [
    {
     "data": {
      "image/png": "[encoded data removed]",
      "text/plain": [
       "<Figure size 1440x432 with 1 Axes>"
      ]
     },
     "metadata": {},
     "output_type": "display_data"
    }
   ],
   "source": [
    "# Call the function to cluster the scaled data and generate an elbow point.\n",
    "\n",
    "optimal_number_clusters(data_scaled)"
   ]
  },
  {
   "cell_type": "markdown",
   "metadata": {},
   "source": [
    "# Perform silhouette analysis on the clustering model"
   ]
  },
  {
   "cell_type": "code",
   "execution_count": 12,
   "metadata": {},
   "outputs": [
    {
     "data": {
      "image/png": "[encoded data removed]",
      "text/plain": [
       "<Figure size 576x396 with 1 Axes>"
      ]
     },
     "metadata": {},
     "output_type": "display_data"
    }
   ],
   "source": [
    "# Use SilhouetteVisualizer() to generate silhouette plots and scores for a model with 10 clusters.\n",
    "\n",
    "from yellowbrick.cluster import SilhouetteVisualizer\n",
    "silhouette=SilhouetteVisualizer(KMeans(10, random_state=10))\n",
    "silhouette.fit(data_scaled)\n",
    "silhouette.poof();\n",
    "\n"
   ]
  },
  {
   "cell_type": "code",
   "execution_count": 13,
   "metadata": {},
   "outputs": [
    {
     "name": "stdout",
     "output_type": "stream",
     "text": [
      "number of clusters: 10\n",
      "clusters score: 0.3645432144189844\n"
     ]
    }
   ],
   "source": [
    "# Print the number of clusters and the silhouette score.\n",
    "\n",
    "print(\"number of clusters:\", silhouette.n_clusters_)\n",
    "\n",
    "print(\"clusters score:\", silhouette.silhouette_score_)\n",
    "\n"
   ]
  },
  {
   "cell_type": "code",
   "execution_count": 14,
   "metadata": {},
   "outputs": [
    {
     "data": {
      "image/png": "[encoded data removed]",
      "text/plain": [
       "<Figure size 576x396 with 1 Axes>"
      ]
     },
     "metadata": {},
     "output_type": "display_data"
    }
   ],
   "source": [
    "# Use SilhouetteVisualizer() to generate silhouette plots and scores for a model with 5 clusters.\n",
    "\n",
    "from yellowbrick.cluster import SilhouetteVisualizer\n",
    "silhouette=SilhouetteVisualizer(KMeans(5, random_state=10))\n",
    "silhouette.fit(data_scaled)\n",
    "silhouette.poof();\n",
    "\n"
   ]
  },
  {
   "cell_type": "code",
   "execution_count": 15,
   "metadata": {},
   "outputs": [
    {
     "name": "stdout",
     "output_type": "stream",
     "text": [
      "number of clusters: 5\n",
      "clusters score: 0.34959064927916506\n"
     ]
    }
   ],
   "source": [
    "# Print the number of clusters and the silhouette score.\n",
    "\n",
    "\n",
    "print(\"number of clusters:\", silhouette.n_clusters_)\n",
    "\n",
    "print(\"clusters score:\", silhouette.silhouette_score_)\n"
   ]
  },
  {
   "cell_type": "markdown",
   "metadata": {},
   "source": [
    "# Train an optimal clustering model"
   ]
  },
  {
   "cell_type": "code",
   "execution_count": 17,
   "metadata": {},
   "outputs": [
    {
     "data": {
      "text/plain": [
       "KMeans(n_clusters=10, random_state=10)"
      ]
     },
     "execution_count": 17,
     "metadata": {},
     "output_type": "execute_result"
    }
   ],
   "source": [
    "# Define the optimal number of clusters as identified by the silhouette analysis.\n",
    "\n",
    "n_clusters = 10\n",
    "\n",
    "\n",
    "# Generate a k-means clustering model using this optimal number of clusters and fit it on the data.\n",
    "\n",
    "kmeans = KMeans(n_clusters=n_clusters, random_state=10)\n",
    "kmeans.fit(data_scaled)\n",
    "\n"
   ]
  },
  {
   "cell_type": "code",
   "execution_count": 18,
   "metadata": {},
   "outputs": [
    {
     "data": {
      "text/html": [
       "<div>\n",
       "<style scoped>\n",
       "    .dataframe tbody tr th:only-of-type {\n",
       "        vertical-align: middle;\n",
       "    }\n",
       "\n",
       "    .dataframe tbody tr th {\n",
       "        vertical-align: top;\n",
       "    }\n",
       "\n",
       "    .dataframe thead th {\n",
       "        text-align: right;\n",
       "    }\n",
       "</style>\n",
       "<table border=\"1\" class=\"dataframe\">\n",
       "  <thead>\n",
       "    <tr style=\"text-align: right;\">\n",
       "      <th></th>\n",
       "      <th>cluster</th>\n",
       "      <th>frequency</th>\n",
       "      <th>recency</th>\n",
       "      <th>tenure</th>\n",
       "      <th>monetary_value</th>\n",
       "      <th>number_unique_items</th>\n",
       "      <th>churned</th>\n",
       "    </tr>\n",
       "  </thead>\n",
       "  <tbody>\n",
       "    <tr>\n",
       "      <th>u12747</th>\n",
       "      <td>2</td>\n",
       "      <td>6.0</td>\n",
       "      <td>367.0</td>\n",
       "      <td>369.0</td>\n",
       "      <td>39.19</td>\n",
       "      <td>3</td>\n",
       "      <td>True</td>\n",
       "    </tr>\n",
       "    <tr>\n",
       "      <th>u12748</th>\n",
       "      <td>7</td>\n",
       "      <td>41.0</td>\n",
       "      <td>365.0</td>\n",
       "      <td>369.0</td>\n",
       "      <td>12.01</td>\n",
       "      <td>9</td>\n",
       "      <td>False</td>\n",
       "    </tr>\n",
       "    <tr>\n",
       "      <th>u12749</th>\n",
       "      <td>2</td>\n",
       "      <td>2.0</td>\n",
       "      <td>127.0</td>\n",
       "      <td>130.0</td>\n",
       "      <td>22.28</td>\n",
       "      <td>2</td>\n",
       "      <td>True</td>\n",
       "    </tr>\n",
       "    <tr>\n",
       "      <th>u1282</th>\n",
       "      <td>0</td>\n",
       "      <td>0.0</td>\n",
       "      <td>0.0</td>\n",
       "      <td>326.0</td>\n",
       "      <td>0.00</td>\n",
       "      <td>1</td>\n",
       "      <td>False</td>\n",
       "    </tr>\n",
       "    <tr>\n",
       "      <th>u12822</th>\n",
       "      <td>5</td>\n",
       "      <td>0.0</td>\n",
       "      <td>0.0</td>\n",
       "      <td>87.0</td>\n",
       "      <td>0.00</td>\n",
       "      <td>1</td>\n",
       "      <td>True</td>\n",
       "    </tr>\n",
       "  </tbody>\n",
       "</table>\n",
       "</div>"
      ],
      "text/plain": [
       "        cluster  frequency  recency  tenure  monetary_value  \\\n",
       "u12747        2        6.0    367.0   369.0           39.19   \n",
       "u12748        7       41.0    365.0   369.0           12.01   \n",
       "u12749        2        2.0    127.0   130.0           22.28   \n",
       "u1282         0        0.0      0.0   326.0            0.00   \n",
       "u12822        5        0.0      0.0    87.0            0.00   \n",
       "\n",
       "        number_unique_items  churned  \n",
       "u12747                    3     True  \n",
       "u12748                    9    False  \n",
       "u12749                    2     True  \n",
       "u1282                     1    False  \n",
       "u12822                    1     True  "
      ]
     },
     "execution_count": 18,
     "metadata": {},
     "output_type": "execute_result"
    }
   ],
   "source": [
    "# Determine the clusters for the users.\n",
    "\n",
    "y_kmeans = kmeans.predict(data_scaled)\n",
    "\n",
    "\n",
    "\n",
    "# Print a DataFrame that shows each customer and their assigned cluster.\n",
    "results = pd.DataFrame(data)\n",
    "results.insert(0,'cluster', y_kmeans)\n",
    "\n",
    "\n",
    "# Obtain the first five rows.\n",
    "results.head()\n"
   ]
  },
  {
   "cell_type": "markdown",
   "metadata": {},
   "source": [
    "# Evaluate the clustering model as a whole"
   ]
  },
  {
   "cell_type": "code",
   "execution_count": 19,
   "metadata": {},
   "outputs": [],
   "source": [
    "# Generate a bar chart that shows how many users were assigned to each cluster.\n",
    "def cluster_bar(cluster_labels):\n",
    "    \"\"\"Create a bar chart to show number of users in each cluster.\"\"\"\n",
    "    pd.DataFrame(Counter(cluster_labels).most_common()). \\\n",
    "    set_index(0).plot.bar(legend = None)\n",
    "    \n",
    "    plt.title('Distribution of Clusters')\n",
    "    plt.xlabel('Cluster ID')\n",
    "    plt.xticks(rotation = 0)\n",
    "    plt.ylabel('Number of users in cluster');\n",
    "\n",
    "\n",
    "\n"
   ]
  },
  {
   "cell_type": "code",
   "execution_count": 20,
   "metadata": {},
   "outputs": [
    {
     "data": {
      "image/png": "[encoded data removed]",
      "text/plain": [
       "<Figure size 576x396 with 1 Axes>"
      ]
     },
     "metadata": {},
     "output_type": "display_data"
    }
   ],
   "source": [
    "# Get the count of customers in each cluster.\n",
    "cluster_bar(y_kmeans)\n"
   ]
  },
  {
   "cell_type": "markdown",
   "metadata": {},
   "source": [
    "# Evaluate summary statistics for individual clusters"
   ]
  },
  {
   "cell_type": "code",
   "execution_count": 22,
   "metadata": {},
   "outputs": [
    {
     "data": {
      "text/html": [
       "<div>\n",
       "<style scoped>\n",
       "    .dataframe tbody tr th:only-of-type {\n",
       "        vertical-align: middle;\n",
       "    }\n",
       "\n",
       "    .dataframe tbody tr th {\n",
       "        vertical-align: top;\n",
       "    }\n",
       "\n",
       "    .dataframe thead th {\n",
       "        text-align: right;\n",
       "    }\n",
       "</style>\n",
       "<table border=\"1\" class=\"dataframe\">\n",
       "  <thead>\n",
       "    <tr style=\"text-align: right;\">\n",
       "      <th></th>\n",
       "      <th>cluster</th>\n",
       "      <th>frequency</th>\n",
       "      <th>recency</th>\n",
       "      <th>tenure</th>\n",
       "      <th>monetary_value</th>\n",
       "      <th>number_unique_items</th>\n",
       "    </tr>\n",
       "  </thead>\n",
       "  <tbody>\n",
       "    <tr>\n",
       "      <th>count</th>\n",
       "      <td>329.0</td>\n",
       "      <td>329.000000</td>\n",
       "      <td>329.000000</td>\n",
       "      <td>329.000000</td>\n",
       "      <td>329.000000</td>\n",
       "      <td>329.000000</td>\n",
       "    </tr>\n",
       "    <tr>\n",
       "      <th>mean</th>\n",
       "      <td>0.0</td>\n",
       "      <td>0.097264</td>\n",
       "      <td>6.252280</td>\n",
       "      <td>266.489362</td>\n",
       "      <td>0.647751</td>\n",
       "      <td>1.325228</td>\n",
       "    </tr>\n",
       "    <tr>\n",
       "      <th>std</th>\n",
       "      <td>0.0</td>\n",
       "      <td>0.316649</td>\n",
       "      <td>23.411878</td>\n",
       "      <td>56.996796</td>\n",
       "      <td>2.738197</td>\n",
       "      <td>0.644396</td>\n",
       "    </tr>\n",
       "    <tr>\n",
       "      <th>min</th>\n",
       "      <td>0.0</td>\n",
       "      <td>0.000000</td>\n",
       "      <td>0.000000</td>\n",
       "      <td>168.000000</td>\n",
       "      <td>0.000000</td>\n",
       "      <td>1.000000</td>\n",
       "    </tr>\n",
       "    <tr>\n",
       "      <th>25%</th>\n",
       "      <td>0.0</td>\n",
       "      <td>0.000000</td>\n",
       "      <td>0.000000</td>\n",
       "      <td>218.000000</td>\n",
       "      <td>0.000000</td>\n",
       "      <td>1.000000</td>\n",
       "    </tr>\n",
       "    <tr>\n",
       "      <th>50%</th>\n",
       "      <td>0.0</td>\n",
       "      <td>0.000000</td>\n",
       "      <td>0.000000</td>\n",
       "      <td>264.000000</td>\n",
       "      <td>0.000000</td>\n",
       "      <td>1.000000</td>\n",
       "    </tr>\n",
       "    <tr>\n",
       "      <th>75%</th>\n",
       "      <td>0.0</td>\n",
       "      <td>0.000000</td>\n",
       "      <td>0.000000</td>\n",
       "      <td>308.000000</td>\n",
       "      <td>0.000000</td>\n",
       "      <td>1.000000</td>\n",
       "    </tr>\n",
       "    <tr>\n",
       "      <th>max</th>\n",
       "      <td>0.0</td>\n",
       "      <td>2.000000</td>\n",
       "      <td>153.000000</td>\n",
       "      <td>373.000000</td>\n",
       "      <td>20.280000</td>\n",
       "      <td>4.000000</td>\n",
       "    </tr>\n",
       "  </tbody>\n",
       "</table>\n",
       "</div>"
      ],
      "text/plain": [
       "       cluster   frequency     recency      tenure  monetary_value  \\\n",
       "count    329.0  329.000000  329.000000  329.000000      329.000000   \n",
       "mean       0.0    0.097264    6.252280  266.489362        0.647751   \n",
       "std        0.0    0.316649   23.411878   56.996796        2.738197   \n",
       "min        0.0    0.000000    0.000000  168.000000        0.000000   \n",
       "25%        0.0    0.000000    0.000000  218.000000        0.000000   \n",
       "50%        0.0    0.000000    0.000000  264.000000        0.000000   \n",
       "75%        0.0    0.000000    0.000000  308.000000        0.000000   \n",
       "max        0.0    2.000000  153.000000  373.000000       20.280000   \n",
       "\n",
       "       number_unique_items  \n",
       "count           329.000000  \n",
       "mean              1.325228  \n",
       "std               0.644396  \n",
       "min               1.000000  \n",
       "25%               1.000000  \n",
       "50%               1.000000  \n",
       "75%               1.000000  \n",
       "max               4.000000  "
      ]
     },
     "execution_count": 22,
     "metadata": {},
     "output_type": "execute_result"
    }
   ],
   "source": [
    "# Get summmary statistics for cluster 0.\n",
    "cluster0 = results[results.cluster==0]\n",
    "cluster0.describe()\n",
    "\n"
   ]
  },
  {
   "cell_type": "code",
   "execution_count": 24,
   "metadata": {},
   "outputs": [
    {
     "data": {
      "text/plain": [
       "0.6477507598784195"
      ]
     },
     "execution_count": 24,
     "metadata": {},
     "output_type": "execute_result"
    }
   ],
   "source": [
    "# Get the average amount spent by cluster 0.\n",
    "\n",
    "cluster0 = results[results.cluster==0]\n",
    "cluster0.monetary_value.mean()\n"
   ]
  },
  {
   "cell_type": "code",
   "execution_count": 25,
   "metadata": {},
   "outputs": [
    {
     "data": {
      "text/html": [
       "<div>\n",
       "<style scoped>\n",
       "    .dataframe tbody tr th:only-of-type {\n",
       "        vertical-align: middle;\n",
       "    }\n",
       "\n",
       "    .dataframe tbody tr th {\n",
       "        vertical-align: top;\n",
       "    }\n",
       "\n",
       "    .dataframe thead th {\n",
       "        text-align: right;\n",
       "    }\n",
       "</style>\n",
       "<table border=\"1\" class=\"dataframe\">\n",
       "  <thead>\n",
       "    <tr style=\"text-align: right;\">\n",
       "      <th></th>\n",
       "      <th>cluster</th>\n",
       "      <th>frequency</th>\n",
       "      <th>recency</th>\n",
       "      <th>tenure</th>\n",
       "      <th>monetary_value</th>\n",
       "      <th>number_unique_items</th>\n",
       "    </tr>\n",
       "  </thead>\n",
       "  <tbody>\n",
       "    <tr>\n",
       "      <th>count</th>\n",
       "      <td>134.0</td>\n",
       "      <td>134.000000</td>\n",
       "      <td>134.000000</td>\n",
       "      <td>134.000000</td>\n",
       "      <td>134.000000</td>\n",
       "      <td>134.000000</td>\n",
       "    </tr>\n",
       "    <tr>\n",
       "      <th>mean</th>\n",
       "      <td>3.0</td>\n",
       "      <td>8.798507</td>\n",
       "      <td>303.895522</td>\n",
       "      <td>328.626866</td>\n",
       "      <td>26.820746</td>\n",
       "      <td>5.425373</td>\n",
       "    </tr>\n",
       "    <tr>\n",
       "      <th>std</th>\n",
       "      <td>0.0</td>\n",
       "      <td>3.963707</td>\n",
       "      <td>56.970018</td>\n",
       "      <td>50.313404</td>\n",
       "      <td>12.776404</td>\n",
       "      <td>1.294156</td>\n",
       "    </tr>\n",
       "    <tr>\n",
       "      <th>min</th>\n",
       "      <td>3.0</td>\n",
       "      <td>2.000000</td>\n",
       "      <td>75.000000</td>\n",
       "      <td>79.000000</td>\n",
       "      <td>5.290000</td>\n",
       "      <td>2.000000</td>\n",
       "    </tr>\n",
       "    <tr>\n",
       "      <th>25%</th>\n",
       "      <td>3.0</td>\n",
       "      <td>6.000000</td>\n",
       "      <td>276.000000</td>\n",
       "      <td>308.500000</td>\n",
       "      <td>16.935000</td>\n",
       "      <td>5.000000</td>\n",
       "    </tr>\n",
       "    <tr>\n",
       "      <th>50%</th>\n",
       "      <td>3.0</td>\n",
       "      <td>8.000000</td>\n",
       "      <td>312.500000</td>\n",
       "      <td>338.500000</td>\n",
       "      <td>25.435000</td>\n",
       "      <td>5.000000</td>\n",
       "    </tr>\n",
       "    <tr>\n",
       "      <th>75%</th>\n",
       "      <td>3.0</td>\n",
       "      <td>11.000000</td>\n",
       "      <td>351.750000</td>\n",
       "      <td>365.000000</td>\n",
       "      <td>37.155000</td>\n",
       "      <td>6.000000</td>\n",
       "    </tr>\n",
       "    <tr>\n",
       "      <th>max</th>\n",
       "      <td>3.0</td>\n",
       "      <td>22.000000</td>\n",
       "      <td>372.000000</td>\n",
       "      <td>373.000000</td>\n",
       "      <td>59.570000</td>\n",
       "      <td>8.000000</td>\n",
       "    </tr>\n",
       "  </tbody>\n",
       "</table>\n",
       "</div>"
      ],
      "text/plain": [
       "       cluster   frequency     recency      tenure  monetary_value  \\\n",
       "count    134.0  134.000000  134.000000  134.000000      134.000000   \n",
       "mean       3.0    8.798507  303.895522  328.626866       26.820746   \n",
       "std        0.0    3.963707   56.970018   50.313404       12.776404   \n",
       "min        3.0    2.000000   75.000000   79.000000        5.290000   \n",
       "25%        3.0    6.000000  276.000000  308.500000       16.935000   \n",
       "50%        3.0    8.000000  312.500000  338.500000       25.435000   \n",
       "75%        3.0   11.000000  351.750000  365.000000       37.155000   \n",
       "max        3.0   22.000000  372.000000  373.000000       59.570000   \n",
       "\n",
       "       number_unique_items  \n",
       "count           134.000000  \n",
       "mean              5.425373  \n",
       "std               1.294156  \n",
       "min               2.000000  \n",
       "25%               5.000000  \n",
       "50%               5.000000  \n",
       "75%               6.000000  \n",
       "max               8.000000  "
      ]
     },
     "execution_count": 25,
     "metadata": {},
     "output_type": "execute_result"
    }
   ],
   "source": [
    "# Get summmary statistics for cluster 3.\n",
    "cluster3 = results[results.cluster==3]\n",
    "cluster3.describe()\n",
    "\n"
   ]
  },
  {
   "cell_type": "code",
   "execution_count": 26,
   "metadata": {},
   "outputs": [
    {
     "data": {
      "text/plain": [
       "26.82074626865671"
      ]
     },
     "execution_count": 26,
     "metadata": {},
     "output_type": "execute_result"
    }
   ],
   "source": [
    "# Get the average amount spent by cluster 3.\n",
    "\n",
    "cluster3 = results[results.cluster==3]\n",
    "cluster3.monetary_value.mean()\n"
   ]
  },
  {
   "cell_type": "code",
   "execution_count": 27,
   "metadata": {},
   "outputs": [
    {
     "data": {
      "text/html": [
       "<div>\n",
       "<style scoped>\n",
       "    .dataframe tbody tr th:only-of-type {\n",
       "        vertical-align: middle;\n",
       "    }\n",
       "\n",
       "    .dataframe tbody tr th {\n",
       "        vertical-align: top;\n",
       "    }\n",
       "\n",
       "    .dataframe thead th {\n",
       "        text-align: right;\n",
       "    }\n",
       "</style>\n",
       "<table border=\"1\" class=\"dataframe\">\n",
       "  <thead>\n",
       "    <tr style=\"text-align: right;\">\n",
       "      <th></th>\n",
       "      <th>cluster</th>\n",
       "      <th>frequency</th>\n",
       "      <th>recency</th>\n",
       "      <th>tenure</th>\n",
       "      <th>monetary_value</th>\n",
       "      <th>number_unique_items</th>\n",
       "    </tr>\n",
       "  </thead>\n",
       "  <tbody>\n",
       "    <tr>\n",
       "      <th>count</th>\n",
       "      <td>192.0</td>\n",
       "      <td>192.000000</td>\n",
       "      <td>192.000000</td>\n",
       "      <td>192.000000</td>\n",
       "      <td>192.000000</td>\n",
       "      <td>192.000000</td>\n",
       "    </tr>\n",
       "    <tr>\n",
       "      <th>mean</th>\n",
       "      <td>4.0</td>\n",
       "      <td>0.140625</td>\n",
       "      <td>7.911458</td>\n",
       "      <td>274.619792</td>\n",
       "      <td>1.963385</td>\n",
       "      <td>1.468750</td>\n",
       "    </tr>\n",
       "    <tr>\n",
       "      <th>std</th>\n",
       "      <td>0.0</td>\n",
       "      <td>0.363254</td>\n",
       "      <td>24.259882</td>\n",
       "      <td>54.492962</td>\n",
       "      <td>5.797236</td>\n",
       "      <td>0.708263</td>\n",
       "    </tr>\n",
       "    <tr>\n",
       "      <th>min</th>\n",
       "      <td>4.0</td>\n",
       "      <td>0.000000</td>\n",
       "      <td>0.000000</td>\n",
       "      <td>179.000000</td>\n",
       "      <td>0.000000</td>\n",
       "      <td>1.000000</td>\n",
       "    </tr>\n",
       "    <tr>\n",
       "      <th>25%</th>\n",
       "      <td>4.0</td>\n",
       "      <td>0.000000</td>\n",
       "      <td>0.000000</td>\n",
       "      <td>233.750000</td>\n",
       "      <td>0.000000</td>\n",
       "      <td>1.000000</td>\n",
       "    </tr>\n",
       "    <tr>\n",
       "      <th>50%</th>\n",
       "      <td>4.0</td>\n",
       "      <td>0.000000</td>\n",
       "      <td>0.000000</td>\n",
       "      <td>269.500000</td>\n",
       "      <td>0.000000</td>\n",
       "      <td>1.000000</td>\n",
       "    </tr>\n",
       "    <tr>\n",
       "      <th>75%</th>\n",
       "      <td>4.0</td>\n",
       "      <td>0.000000</td>\n",
       "      <td>0.000000</td>\n",
       "      <td>317.000000</td>\n",
       "      <td>0.000000</td>\n",
       "      <td>2.000000</td>\n",
       "    </tr>\n",
       "    <tr>\n",
       "      <th>max</th>\n",
       "      <td>4.0</td>\n",
       "      <td>2.000000</td>\n",
       "      <td>155.000000</td>\n",
       "      <td>373.000000</td>\n",
       "      <td>39.000000</td>\n",
       "      <td>4.000000</td>\n",
       "    </tr>\n",
       "  </tbody>\n",
       "</table>\n",
       "</div>"
      ],
      "text/plain": [
       "       cluster   frequency     recency      tenure  monetary_value  \\\n",
       "count    192.0  192.000000  192.000000  192.000000      192.000000   \n",
       "mean       4.0    0.140625    7.911458  274.619792        1.963385   \n",
       "std        0.0    0.363254   24.259882   54.492962        5.797236   \n",
       "min        4.0    0.000000    0.000000  179.000000        0.000000   \n",
       "25%        4.0    0.000000    0.000000  233.750000        0.000000   \n",
       "50%        4.0    0.000000    0.000000  269.500000        0.000000   \n",
       "75%        4.0    0.000000    0.000000  317.000000        0.000000   \n",
       "max        4.0    2.000000  155.000000  373.000000       39.000000   \n",
       "\n",
       "       number_unique_items  \n",
       "count           192.000000  \n",
       "mean              1.468750  \n",
       "std               0.708263  \n",
       "min               1.000000  \n",
       "25%               1.000000  \n",
       "50%               1.000000  \n",
       "75%               2.000000  \n",
       "max               4.000000  "
      ]
     },
     "execution_count": 27,
     "metadata": {},
     "output_type": "execute_result"
    }
   ],
   "source": [
    "# Get summmary statistics for cluster 4.\n",
    "\n",
    "cluster4 = results[results.cluster==4]\n",
    "cluster4.describe()\n"
   ]
  },
  {
   "cell_type": "code",
   "execution_count": 28,
   "metadata": {},
   "outputs": [
    {
     "data": {
      "text/plain": [
       "1.9633854166666664"
      ]
     },
     "execution_count": 28,
     "metadata": {},
     "output_type": "execute_result"
    }
   ],
   "source": [
    "# Get the average amount spent by cluster 4.\n",
    "cluster4 = results[results.cluster==4]\n",
    "cluster4.monetary_value.mean()\n",
    "\n"
   ]
  },
  {
   "cell_type": "markdown",
   "metadata": {},
   "source": [
    "# Evaluate the distribution of features for individual clusters"
   ]
  },
  {
   "cell_type": "code",
   "execution_count": 39,
   "metadata": {},
   "outputs": [
    {
     "data": {
      "image/png": "[encoded data removed]",
      "text/plain": [
       "<Figure size 576x396 with 1 Axes>"
      ]
     },
     "metadata": {},
     "output_type": "display_data"
    }
   ],
   "source": [
    "# Generate violin subplots for the distribution of the \"recency\" feature for each of the clusters.\n",
    "\n",
    "sns.violinplot(data = data, x= results['cluster'], y=results['recency'], linwidth = 30);\n",
    "\n",
    "\n",
    "\n",
    "\n",
    "\n",
    "\n"
   ]
  },
  {
   "cell_type": "code",
   "execution_count": 43,
   "metadata": {},
   "outputs": [
    {
     "data": {
      "image/png": "[encoded data removed]",
      "text/plain": [
       "<Figure size 576x396 with 1 Axes>"
      ]
     },
     "metadata": {},
     "output_type": "display_data"
    }
   ],
   "source": [
    "# Generate violin subplots for the distribution of the \"frequency\" feature for each of the clusters.\n",
    "\n",
    "\n",
    "sns.violinplot(data = data, x= results['cluster'], y=results['frequency'], figsize=(20, 15));\n",
    "\n",
    "\n",
    "\n",
    "\n"
   ]
  },
  {
   "cell_type": "code",
   "execution_count": 48,
   "metadata": {},
   "outputs": [
    {
     "data": {
      "image/png": "[encoded data removed]",
      "text/plain": [
       "<Figure size 576x396 with 1 Axes>"
      ]
     },
     "metadata": {},
     "output_type": "display_data"
    }
   ],
   "source": [
    "# Generate violin subplots for the distribution of the \"monetary_value\" feature for each of the clusters.\n",
    "\n",
    "\n",
    "\n",
    "sns.violinplot(data = data, x= results['cluster'], y=results['monetary_value']);\n",
    "\n",
    "\n",
    "\n",
    "\n"
   ]
  },
  {
   "cell_type": "markdown",
   "metadata": {},
   "source": [
    "# Perform PCA to visualize the clusters in two dimensions"
   ]
  },
  {
   "cell_type": "code",
   "execution_count": 56,
   "metadata": {},
   "outputs": [],
   "source": [
    "# This function performs principal component analysis (PCA) to facilitate the visualization of clustering in two dimensions.\n",
    "\n",
    "def visualize(y_kmeans, data_scaled, n_clusters):\n",
    "    \"\"\"\n",
    "    Run PCA on the data to reduce the dimensions.\n",
    "    \n",
    "    Visualize the customers with their predicted clusters.\n",
    "\n",
    "    \"\"\"\n",
    "\n",
    "    reduced_data = PCA(n_components = 2).fit_transform(data_scaled)\n",
    "    results = pd.DataFrame(reduced_data, columns = ['pca1', 'pca2'])\n",
    "    results = pd.concat([results, pd.DataFrame(y_kmeans)], axis = 1).rename(columns={0 : \"cluster\"})\n",
    "\n",
    "    cmap = sns.color_palette('Set1', n_colors = n_clusters, desat = .5)\n",
    "\n",
    "    sns.scatterplot(x = 'pca1', y = 'pca2', hue = 'cluster', data = results, palette = cmap, legend = True)\n",
    "    plt.title('k-means Clustering with 2 Dimensions')\n",
    "    plt.show();"
   ]
  },
  {
   "cell_type": "code",
   "execution_count": 57,
   "metadata": {},
   "outputs": [
    {
     "data": {
      "image/png": "[encoded data removed]",
      "text/plain": [
       "<Figure size 576x396 with 1 Axes>"
      ]
     },
     "metadata": {},
     "output_type": "display_data"
    }
   ],
   "source": [
    "# Call the function to perform PCA and plot the clusters.\n",
    "visualize(y_kmeans, data_scaled, 10)\n"
   ]
  },
  {
   "cell_type": "markdown",
   "metadata": {},
   "source": [
    "# Save the optimal model"
   ]
  },
  {
   "cell_type": "code",
   "execution_count": 58,
   "metadata": {},
   "outputs": [],
   "source": [
    "# Save the optimal model as a pickle file named optimal_clustering_model.pickle.\n",
    "pickle.dump(kmeans, open('optimal_clustering_model.pickle', 'wb'))\n"
   ]
  },
  {
   "cell_type": "code",
   "execution_count": null,
   "metadata": {},
   "outputs": [],
   "source": []
  }
 ],
 "metadata": {
  "kernelspec": {
   "display_name": "Python 3",
   "language": "python",
   "name": "python3"
  },
  "language_info": {
   "codemirror_mode": {
    "name": "ipython",
    "version": 3
   },
   "file_extension": ".py",
   "mimetype": "text/x-python",
   "name": "python",
   "nbconvert_exporter": "python",
   "pygments_lexer": "ipython3",
   "version": "3.7.6"
  }
 },
 "nbformat": 4,
 "nbformat_minor": 4
}
