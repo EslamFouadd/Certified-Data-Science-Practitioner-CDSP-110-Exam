{
 "cells": [
  {
   "cell_type": "markdown",
   "metadata": {},
   "source": [
    "# Import software libraries"
   ]
  },
  {
   "cell_type": "code",
   "execution_count": 177,
   "metadata": {},
   "outputs": [
    {
     "name": "stdout",
     "output_type": "stream",
     "text": [
      "Libraries used in this project:\n",
      "- Python 3.7.6 | packaged by conda-forge | (default, Mar 23 2020, 23:03:20) \n",
      "[GCC 7.3.0]\n",
      "- NumPy 1.19.2\n",
      "- pandas 1.1.3\n",
      "- Matplotlib 3.3.2\n",
      "- Seaborn 0.11.0\n",
      "- scikit-learn 0.23.2\n",
      "- XGBoost 1.3.3\n"
     ]
    }
   ],
   "source": [
    "# Import required libraries.\n",
    "import sys                                                  # Read system parameters.\n",
    "import numpy as np                                          # Work with multi-dimensional arrays.\n",
    "import pandas as pd                                         # Manipulate and analyze data.\n",
    "import matplotlib                                           # Create and format charts.\n",
    "import matplotlib.pyplot as plt  \n",
    "import seaborn as sns                                       # Make charting easier.\n",
    "import sklearn                                              # Train and evaluate machine learning models.\n",
    "from sklearn.model_selection import train_test_split, \\\n",
    "                                    learning_curve, \\\n",
    "                                    cross_val_score\n",
    "from sklearn.preprocessing import MinMaxScaler\n",
    "from sklearn.linear_model import LogisticRegression\n",
    "from sklearn.ensemble import RandomForestClassifier \n",
    "from sklearn.metrics import accuracy_score, \\\n",
    "                            confusion_matrix, \\\n",
    "                            classification_report, \\\n",
    "                            scorer, \\\n",
    "                            f1_score, \\\n",
    "                            recall_score, \\\n",
    "                            precision_score, \\\n",
    "                            roc_auc_score, \\\n",
    "                            plot_roc_curve, \\\n",
    "                            plot_precision_recall_curve, \\\n",
    "                            plot_confusion_matrix\n",
    "from sklearn.dummy import DummyClassifier\n",
    "import xgboost                                              # Build gradient boosting models.\n",
    "from xgboost import XGBClassifier\n",
    "import pickle                                               # Save Python objects as binary files.\n",
    "from collections import Counter\n",
    "import warnings                                             # Suppress warnings.\n",
    "warnings.filterwarnings('ignore')\n",
    "from imblearn.over_sampling import SMOTE\n",
    "\n",
    "# Ensure results are reproducible.\n",
    "np.random.seed(1)\n",
    "\n",
    "# Summarize software libraries used.\n",
    "print('Libraries used in this project:')\n",
    "print('- Python {}'.format(sys.version))\n",
    "print('- NumPy {}'.format(np.__version__))\n",
    "print('- pandas {}'.format(pd.__version__))\n",
    "print('- Matplotlib {}'.format(matplotlib.__version__))\n",
    "print('- Seaborn {}'.format(sns.__version__))\n",
    "print('- scikit-learn {}'.format(sklearn.__version__))\n",
    "print('- XGBoost {}'.format(xgboost.__version__))"
   ]
  },
  {
   "cell_type": "markdown",
   "metadata": {},
   "source": [
    "# Read and examine the data"
   ]
  },
  {
   "cell_type": "code",
   "execution_count": 178,
   "metadata": {},
   "outputs": [
    {
     "data": {
      "text/html": [
       "<div>\n",
       "<style scoped>\n",
       "    .dataframe tbody tr th:only-of-type {\n",
       "        vertical-align: middle;\n",
       "    }\n",
       "\n",
       "    .dataframe tbody tr th {\n",
       "        vertical-align: top;\n",
       "    }\n",
       "\n",
       "    .dataframe thead th {\n",
       "        text-align: right;\n",
       "    }\n",
       "</style>\n",
       "<table border=\"1\" class=\"dataframe\">\n",
       "  <thead>\n",
       "    <tr style=\"text-align: right;\">\n",
       "      <th></th>\n",
       "      <th>frequency</th>\n",
       "      <th>recency</th>\n",
       "      <th>tenure</th>\n",
       "      <th>monetary_value</th>\n",
       "      <th>number_unique_items</th>\n",
       "      <th>churned</th>\n",
       "    </tr>\n",
       "  </thead>\n",
       "  <tbody>\n",
       "    <tr>\n",
       "      <th>u12747</th>\n",
       "      <td>6.0</td>\n",
       "      <td>367.0</td>\n",
       "      <td>369.0</td>\n",
       "      <td>39.19</td>\n",
       "      <td>3</td>\n",
       "      <td>True</td>\n",
       "    </tr>\n",
       "    <tr>\n",
       "      <th>u12748</th>\n",
       "      <td>41.0</td>\n",
       "      <td>365.0</td>\n",
       "      <td>369.0</td>\n",
       "      <td>12.01</td>\n",
       "      <td>9</td>\n",
       "      <td>False</td>\n",
       "    </tr>\n",
       "    <tr>\n",
       "      <th>u12749</th>\n",
       "      <td>2.0</td>\n",
       "      <td>127.0</td>\n",
       "      <td>130.0</td>\n",
       "      <td>22.28</td>\n",
       "      <td>2</td>\n",
       "      <td>True</td>\n",
       "    </tr>\n",
       "    <tr>\n",
       "      <th>u1282</th>\n",
       "      <td>0.0</td>\n",
       "      <td>0.0</td>\n",
       "      <td>326.0</td>\n",
       "      <td>0.00</td>\n",
       "      <td>1</td>\n",
       "      <td>False</td>\n",
       "    </tr>\n",
       "    <tr>\n",
       "      <th>u12822</th>\n",
       "      <td>0.0</td>\n",
       "      <td>0.0</td>\n",
       "      <td>87.0</td>\n",
       "      <td>0.00</td>\n",
       "      <td>1</td>\n",
       "      <td>True</td>\n",
       "    </tr>\n",
       "  </tbody>\n",
       "</table>\n",
       "</div>"
      ],
      "text/plain": [
       "        frequency  recency  tenure  monetary_value  number_unique_items  \\\n",
       "u12747        6.0    367.0   369.0           39.19                    3   \n",
       "u12748       41.0    365.0   369.0           12.01                    9   \n",
       "u12749        2.0    127.0   130.0           22.28                    2   \n",
       "u1282         0.0      0.0   326.0            0.00                    1   \n",
       "u12822        0.0      0.0    87.0            0.00                    1   \n",
       "\n",
       "        churned  \n",
       "u12747     True  \n",
       "u12748    False  \n",
       "u12749     True  \n",
       "u1282     False  \n",
       "u12822     True  "
      ]
     },
     "execution_count": 178,
     "metadata": {},
     "output_type": "execute_result"
    }
   ],
   "source": [
    "# Read the data.\n",
    "\n",
    "customer = pd.read_pickle('data/customer_data.pickle')\n",
    "\n",
    "# Preview the first five rows of the data.\n",
    "\n",
    "customer.head()"
   ]
  },
  {
   "cell_type": "code",
   "execution_count": 179,
   "metadata": {},
   "outputs": [
    {
     "name": "stdout",
     "output_type": "stream",
     "text": [
      "<class 'pandas.core.frame.DataFrame'>\n",
      "Index: 2130 entries, u12747 to u18283\n",
      "Data columns (total 6 columns):\n",
      " #   Column               Non-Null Count  Dtype  \n",
      "---  ------               --------------  -----  \n",
      " 0   frequency            2130 non-null   float64\n",
      " 1   recency              2130 non-null   float64\n",
      " 2   tenure               2130 non-null   float64\n",
      " 3   monetary_value       2130 non-null   float64\n",
      " 4   number_unique_items  2130 non-null   int64  \n",
      " 5   churned              2130 non-null   bool   \n",
      "dtypes: bool(1), float64(4), int64(1)\n",
      "memory usage: 101.9+ KB\n"
     ]
    }
   ],
   "source": [
    "# Check the structure of the data.\n",
    "\n",
    "customer.info()"
   ]
  },
  {
   "cell_type": "markdown",
   "metadata": {},
   "source": [
    "# Prepare the data"
   ]
  },
  {
   "cell_type": "code",
   "execution_count": 180,
   "metadata": {},
   "outputs": [
    {
     "data": {
      "text/plain": [
       "False    1380\n",
       "True      750\n",
       "Name: churned, dtype: int64"
      ]
     },
     "execution_count": 180,
     "metadata": {},
     "output_type": "execute_result"
    }
   ],
   "source": [
    "# Define the target variable and get the count of each value in the variable.\n",
    "\n",
    "customer.churned.value_counts()"
   ]
  },
  {
   "cell_type": "code",
   "execution_count": 181,
   "metadata": {},
   "outputs": [],
   "source": [
    "# Split the data into target and features.\n",
    "\n",
    "target = customer.churned\n",
    "features = customer.drop(['churned'], axis = 1)"
   ]
  },
  {
   "cell_type": "code",
   "execution_count": 182,
   "metadata": {},
   "outputs": [
    {
     "name": "stdout",
     "output_type": "stream",
     "text": [
      "Training data features:  (1704, 5)\n",
      "Training data target:  (1704,)\n"
     ]
    }
   ],
   "source": [
    "# Split the dataset into separate training and testing sets.\n",
    "\n",
    "x_train, x_test, y_train, y_test = train_test_split(features,\n",
    "                                                    target,\n",
    "                                                    test_size = 0.2)\n",
    "\n",
    "# Get the shape of both the training dataset and the test dataset.\n",
    "\n",
    "print('Training data features: ', x_train.shape)\n",
    "print('Training data target: ', y_train.shape)"
   ]
  },
  {
   "cell_type": "code",
   "execution_count": 183,
   "metadata": {},
   "outputs": [
    {
     "name": "stdout",
     "output_type": "stream",
     "text": [
      "Counter({False: 1101, True: 603})\n"
     ]
    }
   ],
   "source": [
    "# Use the Counter library to get the count of each value in the target variable (test data).\n",
    "\n",
    "print(Counter(y_train))"
   ]
  },
  {
   "cell_type": "markdown",
   "metadata": {},
   "source": [
    "# Train a logistic regression model"
   ]
  },
  {
   "cell_type": "code",
   "execution_count": 184,
   "metadata": {
    "scrolled": true
   },
   "outputs": [
    {
     "name": "stdout",
     "output_type": "stream",
     "text": [
      "(1704, 5)\n",
      "(2202, 5)\n"
     ]
    }
   ],
   "source": [
    "# Normalize the training data.\n",
    "\n",
    "sm = SMOTE(random_state=42)\n",
    "\n",
    "x_train_SMOTE, y_train_SMOTE = sm.fit_resample(X = x_train, y = y_train)\n",
    "x_train_SMOTE = pd.DataFrame(x_train_SMOTE,\n",
    "                             columns = x_train.columns)\n",
    "\n",
    "norm = MinMaxScaler().fit(x_train_SMOTE)\n",
    "x_train_norm = norm.transform(x_train_SMOTE)\n",
    "\n",
    "print(x_train.shape)\n",
    "print(x_train_norm.shape)"
   ]
  },
  {
   "cell_type": "code",
   "execution_count": 185,
   "metadata": {},
   "outputs": [
    {
     "data": {
      "text/plain": [
       "LogisticRegression()"
      ]
     },
     "execution_count": 185,
     "metadata": {},
     "output_type": "execute_result"
    }
   ],
   "source": [
    "# Create a LogisticRegression() model and fit it on the scaled training data.\n",
    "\n",
    "logreg = LogisticRegression()\n",
    "logreg.fit(x_train_norm, y_train_SMOTE)"
   ]
  },
  {
   "cell_type": "code",
   "execution_count": 186,
   "metadata": {},
   "outputs": [
    {
     "name": "stdout",
     "output_type": "stream",
     "text": [
      "Counter({True: 373, False: 53})\n"
     ]
    }
   ],
   "source": [
    "# Make predictions on the test data.\n",
    "\n",
    "logreg_y_pred = logreg.predict(x_test)\n",
    "\n",
    "# Get a count of each prediction value.\n",
    "\n",
    "print(Counter(logreg_y_pred))"
   ]
  },
  {
   "cell_type": "markdown",
   "metadata": {},
   "source": [
    "# Perform a quick evaluation of the logistic regression model"
   ]
  },
  {
   "cell_type": "code",
   "execution_count": 187,
   "metadata": {},
   "outputs": [
    {
     "data": {
      "text/plain": [
       "0.40375586854460094"
      ]
     },
     "execution_count": 187,
     "metadata": {},
     "output_type": "execute_result"
    }
   ],
   "source": [
    "# Obtain the accuracy of the model's predictions.\n",
    "\n",
    "accuracy_score(y_test, logreg_y_pred)"
   ]
  },
  {
   "cell_type": "code",
   "execution_count": 188,
   "metadata": {},
   "outputs": [
    {
     "name": "stdout",
     "output_type": "stream",
     "text": [
      "              precision    recall  f1-score   support\n",
      "\n",
      "       False       0.74      0.14      0.23       279\n",
      "        True       0.36      0.90      0.51       147\n",
      "\n",
      "    accuracy                           0.40       426\n",
      "   macro avg       0.55      0.52      0.37       426\n",
      "weighted avg       0.60      0.40      0.33       426\n",
      "\n"
     ]
    }
   ],
   "source": [
    "# Use the classification_report() function to get a table of additional metric scores.\n",
    "\n",
    "print(classification_report(y_test, logreg_y_pred))"
   ]
  },
  {
   "cell_type": "markdown",
   "metadata": {},
   "source": [
    "# Train a random forest model"
   ]
  },
  {
   "cell_type": "code",
   "execution_count": 189,
   "metadata": {},
   "outputs": [
    {
     "data": {
      "text/plain": [
       "RandomForestClassifier()"
      ]
     },
     "execution_count": 189,
     "metadata": {},
     "output_type": "execute_result"
    }
   ],
   "source": [
    "# Create a RandomForestClassifier() model and fit it on the scaled training data.\n",
    "\n",
    "rf = RandomForestClassifier()\n",
    "rf.fit(x_train_SMOTE, y_train_SMOTE)"
   ]
  },
  {
   "cell_type": "code",
   "execution_count": 190,
   "metadata": {},
   "outputs": [
    {
     "name": "stdout",
     "output_type": "stream",
     "text": [
      "Counter({False: 281, True: 145})\n"
     ]
    }
   ],
   "source": [
    "# Make predictions on the test data.\n",
    "\n",
    "rf_y_pred = rf.predict(x_test)\n",
    "\n",
    "# Get a count of each prediction value.\n",
    "\n",
    "print(Counter(rf_y_pred))"
   ]
  },
  {
   "cell_type": "markdown",
   "metadata": {},
   "source": [
    "# Perform a quick evaluation of the logistic regression model"
   ]
  },
  {
   "cell_type": "code",
   "execution_count": 191,
   "metadata": {},
   "outputs": [
    {
     "data": {
      "text/plain": [
       "0.5117370892018779"
      ]
     },
     "execution_count": 191,
     "metadata": {},
     "output_type": "execute_result"
    }
   ],
   "source": [
    "# Obtain the accuracy of the model's predictions.\n",
    "\n",
    "accuracy_score(y_test, rf_y_pred)"
   ]
  },
  {
   "cell_type": "code",
   "execution_count": 192,
   "metadata": {},
   "outputs": [
    {
     "name": "stdout",
     "output_type": "stream",
     "text": [
      "              precision    recall  f1-score   support\n",
      "\n",
      "       False       0.63      0.63      0.63       279\n",
      "        True       0.29      0.29      0.29       147\n",
      "\n",
      "    accuracy                           0.51       426\n",
      "   macro avg       0.46      0.46      0.46       426\n",
      "weighted avg       0.51      0.51      0.51       426\n",
      "\n"
     ]
    }
   ],
   "source": [
    "# Use the classification_report() function to get a table of additional metric scores.\n",
    "\n",
    "print(classification_report(y_test, rf_y_pred))"
   ]
  },
  {
   "cell_type": "markdown",
   "metadata": {},
   "source": [
    "# Compare evaluation metrics for each model"
   ]
  },
  {
   "cell_type": "code",
   "execution_count": 193,
   "metadata": {},
   "outputs": [],
   "source": [
    "# List will hold model objects.\n",
    "\n",
    "models = []\n",
    "\n",
    "# DummyClassifier() used as a baseline algorithm.\n",
    "\n",
    "models.append(('Dummy Classifier', DummyClassifier(strategy = 'stratified')))\n",
    "\n",
    "# Logistic Regression model.\n",
    "\n",
    "models.append(('Logistic Regression', LogisticRegression()))\n",
    "\n",
    "# Random Forest model.\n",
    "\n",
    "models.append(('Random Forest', RandomForestClassifier()))\n",
    "\n",
    "# XGBoost model.\n",
    "\n",
    "models.append(('XGBoost', XGBClassifier(eval_metric = 'logloss', n_jobs = 1)))"
   ]
  },
  {
   "cell_type": "code",
   "execution_count": 194,
   "metadata": {},
   "outputs": [],
   "source": [
    "# List will hold dictionaries of model scores.\n",
    "\n",
    "scoring_df = []\n",
    "\n",
    "# Train each model in the list and output multiple scores for each model.\n",
    "\n",
    "for name, model in models:\n",
    "    if name in ['Logistic Regression']:\n",
    "        x_train_1 = x_train\n",
    "    else:\n",
    "        x_train_1 = x_train\n",
    "    \n",
    "    model.fit(x_train_1, y_train)\n",
    "    \n",
    "    y_pred = model.predict(x_test)\n",
    "\n",
    "    # Calcualte the evaluation metrics for the model.\n",
    "    \n",
    "    accuracy = accuracy_score(y_test, y_pred)\n",
    "    f1 = f1_score(y_test, y_pred)\n",
    "    recall = recall_score(y_test, y_pred)\n",
    "    precision = precision_score(y_test, y_pred)\n",
    "    auc = roc_auc_score(y_test, y_pred)\n",
    "\n",
    "    scoring_dict = {'Model': name,\n",
    "                    'Accuracy': round(accuracy, 4), \n",
    "                    'F1 Score': round(f1, 4), \n",
    "                    'Precision' : round(precision, 4), \n",
    "                    'Recall' : round(recall, 4), \n",
    "                    'AUC' : round(auc ,4), \n",
    "                   }\n",
    "    \n",
    "    scoring_df.append(scoring_dict)"
   ]
  },
  {
   "cell_type": "code",
   "execution_count": 195,
   "metadata": {
    "scrolled": false
   },
   "outputs": [
    {
     "data": {
      "text/html": [
       "<div>\n",
       "<style scoped>\n",
       "    .dataframe tbody tr th:only-of-type {\n",
       "        vertical-align: middle;\n",
       "    }\n",
       "\n",
       "    .dataframe tbody tr th {\n",
       "        vertical-align: top;\n",
       "    }\n",
       "\n",
       "    .dataframe thead th {\n",
       "        text-align: right;\n",
       "    }\n",
       "</style>\n",
       "<table border=\"1\" class=\"dataframe\">\n",
       "  <thead>\n",
       "    <tr style=\"text-align: right;\">\n",
       "      <th></th>\n",
       "      <th>Model</th>\n",
       "      <th>Accuracy</th>\n",
       "      <th>F1 Score</th>\n",
       "      <th>Precision</th>\n",
       "      <th>Recall</th>\n",
       "      <th>AUC</th>\n",
       "    </tr>\n",
       "  </thead>\n",
       "  <tbody>\n",
       "    <tr>\n",
       "      <th>1</th>\n",
       "      <td>Logistic Regression</td>\n",
       "      <td>0.6549</td>\n",
       "      <td>0.0000</td>\n",
       "      <td>0.0000</td>\n",
       "      <td>0.0000</td>\n",
       "      <td>0.5000</td>\n",
       "    </tr>\n",
       "    <tr>\n",
       "      <th>3</th>\n",
       "      <td>XGBoost</td>\n",
       "      <td>0.5657</td>\n",
       "      <td>0.2688</td>\n",
       "      <td>0.3208</td>\n",
       "      <td>0.2313</td>\n",
       "      <td>0.4866</td>\n",
       "    </tr>\n",
       "    <tr>\n",
       "      <th>2</th>\n",
       "      <td>Random Forest</td>\n",
       "      <td>0.5563</td>\n",
       "      <td>0.2286</td>\n",
       "      <td>0.2857</td>\n",
       "      <td>0.1905</td>\n",
       "      <td>0.4698</td>\n",
       "    </tr>\n",
       "    <tr>\n",
       "      <th>0</th>\n",
       "      <td>Dummy Classifier</td>\n",
       "      <td>0.4859</td>\n",
       "      <td>0.2526</td>\n",
       "      <td>0.2534</td>\n",
       "      <td>0.2517</td>\n",
       "      <td>0.4305</td>\n",
       "    </tr>\n",
       "  </tbody>\n",
       "</table>\n",
       "</div>"
      ],
      "text/plain": [
       "                 Model  Accuracy  F1 Score  Precision  Recall     AUC\n",
       "1  Logistic Regression    0.6549    0.0000     0.0000  0.0000  0.5000\n",
       "3              XGBoost    0.5657    0.2688     0.3208  0.2313  0.4866\n",
       "2        Random Forest    0.5563    0.2286     0.2857  0.1905  0.4698\n",
       "0     Dummy Classifier    0.4859    0.2526     0.2534  0.2517  0.4305"
      ]
     },
     "execution_count": 195,
     "metadata": {},
     "output_type": "execute_result"
    }
   ],
   "source": [
    "# Create a DataFrame from scoring_df.\n",
    "\n",
    "scoring_df = pd.DataFrame(scoring_df)\n",
    "\n",
    "# Sort the DataFrame by accuracy score (descending), then print it.\n",
    "\n",
    "scoring_df.sort_values(by=['Accuracy'], ascending = False)"
   ]
  },
  {
   "cell_type": "markdown",
   "metadata": {},
   "source": [
    "# Begin evaluating the best model"
   ]
  },
  {
   "cell_type": "code",
   "execution_count": 196,
   "metadata": {},
   "outputs": [
    {
     "data": {
      "text/plain": [
       "LogisticRegression()"
      ]
     },
     "execution_count": 196,
     "metadata": {},
     "output_type": "execute_result"
    }
   ],
   "source": [
    "# Retrain the model with the highest accuracy score.\n",
    "\n",
    "logreg.fit(x_train_norm, y_train_SMOTE)"
   ]
  },
  {
   "cell_type": "code",
   "execution_count": 197,
   "metadata": {},
   "outputs": [
    {
     "data": {
      "text/plain": [
       "Counter({True: 373, False: 53})"
      ]
     },
     "execution_count": 197,
     "metadata": {},
     "output_type": "execute_result"
    }
   ],
   "source": [
    "# Make predictions on the test data.\n",
    "\n",
    "logreg_y_pred = logreg.predict(x_test)\n",
    "\n",
    "# Get a count of each prediction value.\n",
    "\n",
    "Counter(logreg_y_pred)"
   ]
  },
  {
   "cell_type": "code",
   "execution_count": 198,
   "metadata": {},
   "outputs": [
    {
     "data": {
      "image/png": "[encoded data removed]",
      "text/plain": [
       "<Figure size 432x288 with 1 Axes>"
      ]
     },
     "metadata": {
      "needs_background": "light"
     },
     "output_type": "display_data"
    }
   ],
   "source": [
    "# Plot a ROC curve.\n",
    "\n",
    "plot_roc_curve(logreg, x_test, y_test);"
   ]
  },
  {
   "cell_type": "markdown",
   "metadata": {},
   "source": [
    "# Generate a confusion matrix of the best model"
   ]
  },
  {
   "cell_type": "code",
   "execution_count": 199,
   "metadata": {},
   "outputs": [
    {
     "data": {
      "image/png": "[encoded data removed]",
      "text/plain": [
       "<Figure size 432x288 with 2 Axes>"
      ]
     },
     "metadata": {
      "needs_background": "light"
     },
     "output_type": "display_data"
    }
   ],
   "source": [
    "# Generate a confusion matrix.\n",
    "\n",
    "plot_confusion_matrix(logreg,\n",
    "                     x_test,\n",
    "                     y_test,\n",
    "                     cmap = plt.cm.Blues,\n",
    "                     normalize = 'true');"
   ]
  },
  {
   "cell_type": "code",
   "execution_count": 200,
   "metadata": {},
   "outputs": [
    {
     "data": {
      "image/png": "[encoded data removed]",
      "text/plain": [
       "<Figure size 432x288 with 2 Axes>"
      ]
     },
     "metadata": {
      "needs_background": "light"
     },
     "output_type": "display_data"
    }
   ],
   "source": [
    "# Plot the confusion matrix.\n",
    "\n",
    "plot_confusion_matrix(logreg,\n",
    "                     x_test,\n",
    "                     y_test,\n",
    "                     cmap = plt.cm.Blues,\n",
    "                     normalize = 'true');"
   ]
  },
  {
   "cell_type": "markdown",
   "metadata": {},
   "source": [
    "# Generate a feature importance plot for the best model"
   ]
  },
  {
   "cell_type": "code",
   "execution_count": 201,
   "metadata": {},
   "outputs": [],
   "source": [
    "# This function generates a feature importance plot on a bar chart.\n",
    "\n",
    "def feature_importance_plot(model, X_train, n):\n",
    "    \"\"\"Plots feature importance. This only works for random forest and XGBoost models.\"\"\"\n",
    "    \n",
    "    plt.figure(figsize=(8, 5))  # Set figure size.\n",
    "    feat_importances = pd.Series(model.coef_,\n",
    "                                 index = X_train.columns)\n",
    "    feat_importances.nlargest(n).plot(kind = 'barh')\n",
    "    plt.title(f'Top {n} Features')\n",
    "    plt.show()"
   ]
  },
  {
   "cell_type": "code",
   "execution_count": 202,
   "metadata": {},
   "outputs": [
    {
     "data": {
      "image/png": "[encoded data removed]",
      "text/plain": [
       "<Figure size 720x432 with 1 Axes>"
      ]
     },
     "metadata": {
      "needs_background": "light"
     },
     "output_type": "display_data"
    }
   ],
   "source": [
    "# Plot the feature importances.\n",
    "\n",
    "coefficients = logreg.coef_\n",
    "\n",
    "avg_importance = np.mean(np.abs(coefficients), axis=0)\n",
    "feature_importance = pd.DataFrame({'Feature': x_train.columns, 'Importance': avg_importance})\n",
    "feature_importance = feature_importance.sort_values('Importance', ascending=True)\n",
    "feature_importance.plot(x='Feature', y='Importance', kind='barh', figsize=(10, 6));"
   ]
  },
  {
   "cell_type": "markdown",
   "metadata": {},
   "source": [
    "# Plot a learning curve for the best model"
   ]
  },
  {
   "cell_type": "code",
   "execution_count": 203,
   "metadata": {},
   "outputs": [],
   "source": [
    "# This function generates and plots a learning curve.\n",
    "\n",
    "def plot_learning_curves(model, X_train, y_train):\n",
    "    \"\"\"Plots learning curves for model validation.\"\"\"\n",
    "    \n",
    "    plt.figure(figsize=(5, 5))  # Set figure size.\n",
    "    train_sizes, train_scores, test_scores = learning_curve(model,\n",
    "                                                            X_train,\n",
    "                                                            y_train,\n",
    "                                                            cv = 5,  # Number of folds in cross-validation.\n",
    "                                                            scoring = 'accuracy',  # Evaluation metric.\n",
    "                                                            n_jobs = 1,\n",
    "                                                            shuffle = True,\n",
    "                                                            train_sizes = np.linspace(0.01, 1.0, 5))  # 5 different sizes of the training set.\n",
    "\n",
    "    # Create means and standard deviations of training set scores.\n",
    "    \n",
    "    train_mean = np.mean(train_scores, axis = 1)\n",
    "    train_std = np.std(train_scores, axis = 1)\n",
    "\n",
    "    # Create means and standard deviations of test set scores.\n",
    "    \n",
    "    test_mean = np.mean(test_scores, axis = 1)\n",
    "    test_std = np.std(test_scores, axis = 1)\n",
    "\n",
    "    # Draw lines.\n",
    "    \n",
    "    plt.plot(train_sizes, train_mean, '--', color = '#111111', label = 'Training score')\n",
    "    plt.plot(train_sizes, test_mean, color = '#111111', label = 'Cross-validation score')\n",
    "    \n",
    "    # Create plot.\n",
    "    \n",
    "    plt.title('Learning Curves')\n",
    "    plt.xlabel('Training Set Size'), plt.ylabel('Accuracy'), plt.legend(loc = 'best')\n",
    "    plt.tight_layout()\n",
    "    \n",
    "    plt.show()"
   ]
  },
  {
   "cell_type": "code",
   "execution_count": 204,
   "metadata": {},
   "outputs": [
    {
     "data": {
      "image/png": "[encoded data removed]",
      "text/plain": [
       "<Figure size 360x360 with 1 Axes>"
      ]
     },
     "metadata": {
      "needs_background": "light"
     },
     "output_type": "display_data"
    }
   ],
   "source": [
    "# Call the function to plot learning curves for the best model.\n",
    "\n",
    "plot_learning_curves(logreg, x_train_norm, y_train_SMOTE)"
   ]
  },
  {
   "cell_type": "markdown",
   "metadata": {},
   "source": [
    "# Save the best model"
   ]
  },
  {
   "cell_type": "code",
   "execution_count": 205,
   "metadata": {},
   "outputs": [],
   "source": [
    "# Save the best model as a pickle file named best_classification_model.pickle.\n",
    "\n",
    "pickle.dump(logreg, open('best_classification_model.pickle', 'wb'))"
   ]
  }
 ],
 "metadata": {
  "kernelspec": {
   "display_name": "Python 3",
   "language": "python",
   "name": "python3"
  },
  "language_info": {
   "codemirror_mode": {
    "name": "ipython",
    "version": 3
   },
   "file_extension": ".py",
   "mimetype": "text/x-python",
   "name": "python",
   "nbconvert_exporter": "python",
   "pygments_lexer": "ipython3",
   "version": "3.7.6"
  }
 },
 "nbformat": 4,
 "nbformat_minor": 4
}
